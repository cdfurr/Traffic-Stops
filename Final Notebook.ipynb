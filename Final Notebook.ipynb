{
 "cells": [
  {
   "cell_type": "markdown",
   "metadata": {},
   "source": [
    "# Terry Stops"
   ]
  },
  {
   "cell_type": "markdown",
   "metadata": {},
   "source": [
    "### Business Understanding\n",
    "Ethnic Fathers' of Seattle and the Seattle police chief are concerned with the impact terry stops have had on the community.\n",
    "\n",
    "#### Stakeholder:\n",
    "- Ethnic Father's of Seattle\n",
    "- Seattle Police Chief/Staff\n",
    "- Non-Technical stakeholder"
   ]
  },
  {
   "cell_type": "markdown",
   "metadata": {},
   "source": [
    "#### True Business Problem:\n",
    "In 1968 the supreme court ruled that \"stop and frisk\" tactics is not in violation of a person's constitutional rights. Terry v. Ohio gives a cop the ability to detain someone on the grounds of \"reasonable suspicion\", even with the absence of clear evidence. Based on the data from the Seattle census bureau, I was able to build multiple models that:\n",
    "    - Predict if a terry stop leads to an arrest.\n",
    "    - With a recent rise in racial accusations, is race a driving factor in arrest?"
   ]
  },
  {
   "cell_type": "markdown",
   "metadata": {},
   "source": [
    "#### Context:\n",
    "- **False Negative**: model predicts that a terry stop does not lead to an arrest, but a terry stop leads to an arrest.\n",
    "    - **Outcome**:\n",
    "- **False Positive**: model predicts that a terry stop does lead to an arrest, but it did not lead to an arrest.\n",
    "    - **Outcome**:"
   ]
  },
  {
   "cell_type": "markdown",
   "metadata": {},
   "source": [
    "## Data Understanding"
   ]
  },
  {
   "cell_type": "code",
   "execution_count": 1,
   "metadata": {},
   "outputs": [],
   "source": [
    "# Imports\n",
    "import pandas as pd\n",
    "import numpy as np\n",
    "import seaborn as sns\n",
    "\n",
    "import matplotlib.pyplot as plt\n",
    "%matplotlib inline\n",
    "from matplotlib.ticker import StrMethodFormatter\n",
    "\n",
    "from sklearn.impute import SimpleImputer\n",
    "from sklearn.model_selection import train_test_split, cross_val_score, cross_validate, GridSearchCV\n",
    "from sklearn.preprocessing import MinMaxScaler, OneHotEncoder, StandardScaler\n",
    "from sklearn.linear_model import LogisticRegression\n",
    "from sklearn.tree import DecisionTreeClassifier\n",
    "from sklearn.neighbors import KNeighborsClassifier\n",
    "from sklearn.feature_extraction.text import CountVectorizer\n",
    "from sklearn.naive_bayes import MultinomialNB, ComplementNB, GaussianNB\n",
    "from sklearn.metrics import accuracy_score, precision_score, recall_score, f1_score, recall_score, roc_auc_score, plot_roc_curve\n",
    "from sklearn.metrics import confusion_matrix, plot_confusion_matrix, mean_squared_error\n",
    "from sklearn.pipeline import Pipeline\n",
    "from sklearn.compose import ColumnTransformer\n",
    "from sklearn.base import BaseEstimator, TransformerMixin\n",
    "from sklearn.ensemble import RandomForestClassifier, AdaBoostClassifier"
   ]
  },
  {
   "cell_type": "code",
   "execution_count": 2,
   "metadata": {},
   "outputs": [
    {
     "name": "stdout",
     "output_type": "stream",
     "text": [
      "Terry_Stops.csv\n"
     ]
    }
   ],
   "source": [
    "!ls Data"
   ]
  },
  {
   "cell_type": "code",
   "execution_count": 3,
   "metadata": {},
   "outputs": [
    {
     "data": {
      "text/html": [
       "<div>\n",
       "<style scoped>\n",
       "    .dataframe tbody tr th:only-of-type {\n",
       "        vertical-align: middle;\n",
       "    }\n",
       "\n",
       "    .dataframe tbody tr th {\n",
       "        vertical-align: top;\n",
       "    }\n",
       "\n",
       "    .dataframe thead th {\n",
       "        text-align: right;\n",
       "    }\n",
       "</style>\n",
       "<table border=\"1\" class=\"dataframe\">\n",
       "  <thead>\n",
       "    <tr style=\"text-align: right;\">\n",
       "      <th></th>\n",
       "      <th>Subject Age Group</th>\n",
       "      <th>Subject ID</th>\n",
       "      <th>GO / SC Num</th>\n",
       "      <th>Terry Stop ID</th>\n",
       "      <th>Stop Resolution</th>\n",
       "      <th>Weapon Type</th>\n",
       "      <th>Officer ID</th>\n",
       "      <th>Officer YOB</th>\n",
       "      <th>Officer Gender</th>\n",
       "      <th>Officer Race</th>\n",
       "      <th>...</th>\n",
       "      <th>Reported Time</th>\n",
       "      <th>Initial Call Type</th>\n",
       "      <th>Final Call Type</th>\n",
       "      <th>Call Type</th>\n",
       "      <th>Officer Squad</th>\n",
       "      <th>Arrest Flag</th>\n",
       "      <th>Frisk Flag</th>\n",
       "      <th>Precinct</th>\n",
       "      <th>Sector</th>\n",
       "      <th>Beat</th>\n",
       "    </tr>\n",
       "  </thead>\n",
       "  <tbody>\n",
       "    <tr>\n",
       "      <th>0</th>\n",
       "      <td>NaN</td>\n",
       "      <td>-1</td>\n",
       "      <td>20140000120677</td>\n",
       "      <td>92317</td>\n",
       "      <td>Arrest</td>\n",
       "      <td>None</td>\n",
       "      <td>7500</td>\n",
       "      <td>1984</td>\n",
       "      <td>M</td>\n",
       "      <td>Black or African American</td>\n",
       "      <td>...</td>\n",
       "      <td>11:32:00.0000000</td>\n",
       "      <td>NaN</td>\n",
       "      <td>NaN</td>\n",
       "      <td>NaN</td>\n",
       "      <td>SOUTH PCT 1ST W - ROBERT</td>\n",
       "      <td>N</td>\n",
       "      <td>N</td>\n",
       "      <td>South</td>\n",
       "      <td>O</td>\n",
       "      <td>O2</td>\n",
       "    </tr>\n",
       "    <tr>\n",
       "      <th>1</th>\n",
       "      <td>NaN</td>\n",
       "      <td>-1</td>\n",
       "      <td>20150000001463</td>\n",
       "      <td>28806</td>\n",
       "      <td>Field Contact</td>\n",
       "      <td>None</td>\n",
       "      <td>5670</td>\n",
       "      <td>1965</td>\n",
       "      <td>M</td>\n",
       "      <td>White</td>\n",
       "      <td>...</td>\n",
       "      <td>07:59:00.0000000</td>\n",
       "      <td>NaN</td>\n",
       "      <td>NaN</td>\n",
       "      <td>NaN</td>\n",
       "      <td>NaN</td>\n",
       "      <td>N</td>\n",
       "      <td>N</td>\n",
       "      <td>NaN</td>\n",
       "      <td>NaN</td>\n",
       "      <td>NaN</td>\n",
       "    </tr>\n",
       "  </tbody>\n",
       "</table>\n",
       "<p>2 rows × 23 columns</p>\n",
       "</div>"
      ],
      "text/plain": [
       "  Subject Age Group  Subject ID     GO / SC Num  Terry Stop ID  \\\n",
       "0               NaN          -1  20140000120677          92317   \n",
       "1               NaN          -1  20150000001463          28806   \n",
       "\n",
       "  Stop Resolution Weapon Type Officer ID  Officer YOB Officer Gender  \\\n",
       "0          Arrest        None       7500         1984              M   \n",
       "1   Field Contact        None       5670         1965              M   \n",
       "\n",
       "                Officer Race  ...     Reported Time Initial Call Type  \\\n",
       "0  Black or African American  ...  11:32:00.0000000               NaN   \n",
       "1                      White  ...  07:59:00.0000000               NaN   \n",
       "\n",
       "  Final Call Type Call Type             Officer Squad Arrest Flag Frisk Flag  \\\n",
       "0             NaN       NaN  SOUTH PCT 1ST W - ROBERT           N          N   \n",
       "1             NaN       NaN                       NaN           N          N   \n",
       "\n",
       "  Precinct Sector Beat  \n",
       "0    South      O   O2  \n",
       "1      NaN    NaN  NaN  \n",
       "\n",
       "[2 rows x 23 columns]"
      ]
     },
     "execution_count": 3,
     "metadata": {},
     "output_type": "execute_result"
    }
   ],
   "source": [
    "# Load dataset\n",
    "df = pd.read_csv(\"data/Terry_Stops.csv\", na_values='-')\n",
    "\n",
    "df.head(2)"
   ]
  },
  {
   "cell_type": "markdown",
   "metadata": {},
   "source": [
    "## Clean Data"
   ]
  },
  {
   "cell_type": "code",
   "execution_count": 4,
   "metadata": {},
   "outputs": [
    {
     "name": "stdout",
     "output_type": "stream",
     "text": [
      "<class 'pandas.core.frame.DataFrame'>\n",
      "RangeIndex: 52215 entries, 0 to 52214\n",
      "Data columns (total 23 columns):\n",
      " #   Column                    Non-Null Count  Dtype \n",
      "---  ------                    --------------  ----- \n",
      " 0   Subject Age Group         50446 non-null  object\n",
      " 1   Subject ID                52215 non-null  int64 \n",
      " 2   GO / SC Num               52215 non-null  int64 \n",
      " 3   Terry Stop ID             52215 non-null  int64 \n",
      " 4   Stop Resolution           52215 non-null  object\n",
      " 5   Weapon Type               35740 non-null  object\n",
      " 6   Officer ID                52191 non-null  object\n",
      " 7   Officer YOB               52215 non-null  int64 \n",
      " 8   Officer Gender            52215 non-null  object\n",
      " 9   Officer Race              52215 non-null  object\n",
      " 10  Subject Perceived Race    50406 non-null  object\n",
      " 11  Subject Perceived Gender  51977 non-null  object\n",
      " 12  Reported Date             52215 non-null  object\n",
      " 13  Reported Time             52215 non-null  object\n",
      " 14  Initial Call Type         38750 non-null  object\n",
      " 15  Final Call Type           38750 non-null  object\n",
      " 16  Call Type                 38750 non-null  object\n",
      " 17  Officer Squad             51729 non-null  object\n",
      " 18  Arrest Flag               52215 non-null  object\n",
      " 19  Frisk Flag                51737 non-null  object\n",
      " 20  Precinct                  42054 non-null  object\n",
      " 21  Sector                    41826 non-null  object\n",
      " 22  Beat                      41909 non-null  object\n",
      "dtypes: int64(4), object(19)\n",
      "memory usage: 9.2+ MB\n"
     ]
    }
   ],
   "source": [
    "df.info()"
   ]
  },
  {
   "cell_type": "code",
   "execution_count": 5,
   "metadata": {},
   "outputs": [
    {
     "data": {
      "text/plain": [
       "Subject Age Group            1769\n",
       "Subject ID                      0\n",
       "GO / SC Num                     0\n",
       "Terry Stop ID                   0\n",
       "Stop Resolution                 0\n",
       "Weapon Type                 16475\n",
       "Officer ID                     24\n",
       "Officer YOB                     0\n",
       "Officer Gender                  0\n",
       "Officer Race                    0\n",
       "Subject Perceived Race       1809\n",
       "Subject Perceived Gender      238\n",
       "Reported Date                   0\n",
       "Reported Time                   0\n",
       "Initial Call Type           13465\n",
       "Final Call Type             13465\n",
       "Call Type                   13465\n",
       "Officer Squad                 486\n",
       "Arrest Flag                     0\n",
       "Frisk Flag                    478\n",
       "Precinct                    10161\n",
       "Sector                      10389\n",
       "Beat                        10306\n",
       "dtype: int64"
      ]
     },
     "execution_count": 5,
     "metadata": {},
     "output_type": "execute_result"
    }
   ],
   "source": [
    "df.isna().sum()"
   ]
  },
  {
   "cell_type": "markdown",
   "metadata": {},
   "source": [
    "#### Filling in null values\n",
    "- Definitely an easier way of doing this but I could not think of it at the time of doing this.  "
   ]
  },
  {
   "cell_type": "code",
   "execution_count": 6,
   "metadata": {},
   "outputs": [],
   "source": [
    "df['Officer Squad'] = df['Officer Squad'].fillna('Unknown')\n",
    "df['Weapon Type'] = df['Weapon Type'].fillna('Unknown')\n",
    "df['Subject Age Group'] = df['Subject Age Group'].fillna('Unknown')\n",
    "df['Officer ID'] = df['Officer ID'].fillna('0000')\n",
    "df['Subject Perceived Gender'] = df['Subject Perceived Gender'].fillna('Unknown')\n",
    "df['Subject Perceived Race'] = df['Subject Perceived Race'].fillna('Unknown')\n",
    "df['Initial Call Type'] = df['Initial Call Type'].fillna('Unknown')\n",
    "df['Final Call Type'] = df['Final Call Type'].fillna('Unknown')\n",
    "df['Call Type'] = df['Call Type'].fillna('Unknown')\n",
    "df['Officer Squad'] = df['Officer Squad'].fillna('Unknown')\n",
    "df['Frisk Flag'] = df['Frisk Flag'].fillna('Unknown')\n",
    "df['Precinct'] = df['Precinct'].fillna('Unknown')\n",
    "df['Sector'] = df['Sector'].fillna('Unknown')\n",
    "df['Beat'] = df['Beat'].fillna('Unknown')"
   ]
  },
  {
   "cell_type": "code",
   "execution_count": 7,
   "metadata": {},
   "outputs": [
    {
     "data": {
      "text/plain": [
       "Subject Age Group           0\n",
       "Subject ID                  0\n",
       "GO / SC Num                 0\n",
       "Terry Stop ID               0\n",
       "Stop Resolution             0\n",
       "Weapon Type                 0\n",
       "Officer ID                  0\n",
       "Officer YOB                 0\n",
       "Officer Gender              0\n",
       "Officer Race                0\n",
       "Subject Perceived Race      0\n",
       "Subject Perceived Gender    0\n",
       "Reported Date               0\n",
       "Reported Time               0\n",
       "Initial Call Type           0\n",
       "Final Call Type             0\n",
       "Call Type                   0\n",
       "Officer Squad               0\n",
       "Arrest Flag                 0\n",
       "Frisk Flag                  0\n",
       "Precinct                    0\n",
       "Sector                      0\n",
       "Beat                        0\n",
       "dtype: int64"
      ]
     },
     "execution_count": 7,
     "metadata": {},
     "output_type": "execute_result"
    }
   ],
   "source": [
    "df.isna().sum()"
   ]
  },
  {
   "cell_type": "markdown",
   "metadata": {},
   "source": [
    "#### Dropping columns & fixing column names\n",
    "- Dropping columns that will not aide in making a generalized dataset or columns that are too expansive. \n",
    "- Replacing spaces and capital letters in column names"
   ]
  },
  {
   "cell_type": "code",
   "execution_count": 8,
   "metadata": {},
   "outputs": [],
   "source": [
    "to_drop = ['Subject ID', 'GO / SC Num', 'Terry Stop ID', 'Stop Resolution', 'Officer ID',\n",
    "           'Initial Call Type', 'Final Call Type', 'Call Type', 'Officer Squad',\n",
    "           'Precinct', 'Sector', 'Beat']"
   ]
  },
  {
   "cell_type": "code",
   "execution_count": 9,
   "metadata": {},
   "outputs": [
    {
     "data": {
      "text/html": [
       "<div>\n",
       "<style scoped>\n",
       "    .dataframe tbody tr th:only-of-type {\n",
       "        vertical-align: middle;\n",
       "    }\n",
       "\n",
       "    .dataframe tbody tr th {\n",
       "        vertical-align: top;\n",
       "    }\n",
       "\n",
       "    .dataframe thead th {\n",
       "        text-align: right;\n",
       "    }\n",
       "</style>\n",
       "<table border=\"1\" class=\"dataframe\">\n",
       "  <thead>\n",
       "    <tr style=\"text-align: right;\">\n",
       "      <th></th>\n",
       "      <th>Subject Age Group</th>\n",
       "      <th>Weapon Type</th>\n",
       "      <th>Officer YOB</th>\n",
       "      <th>Officer Gender</th>\n",
       "      <th>Officer Race</th>\n",
       "      <th>Subject Perceived Race</th>\n",
       "      <th>Subject Perceived Gender</th>\n",
       "      <th>Reported Date</th>\n",
       "      <th>Reported Time</th>\n",
       "      <th>Arrest Flag</th>\n",
       "      <th>Frisk Flag</th>\n",
       "    </tr>\n",
       "  </thead>\n",
       "  <tbody>\n",
       "    <tr>\n",
       "      <th>0</th>\n",
       "      <td>Unknown</td>\n",
       "      <td>None</td>\n",
       "      <td>1984</td>\n",
       "      <td>M</td>\n",
       "      <td>Black or African American</td>\n",
       "      <td>Asian</td>\n",
       "      <td>Male</td>\n",
       "      <td>2015-10-16T00:00:00Z</td>\n",
       "      <td>11:32:00.0000000</td>\n",
       "      <td>N</td>\n",
       "      <td>N</td>\n",
       "    </tr>\n",
       "    <tr>\n",
       "      <th>1</th>\n",
       "      <td>Unknown</td>\n",
       "      <td>None</td>\n",
       "      <td>1965</td>\n",
       "      <td>M</td>\n",
       "      <td>White</td>\n",
       "      <td>Unknown</td>\n",
       "      <td>Unknown</td>\n",
       "      <td>2015-03-19T00:00:00Z</td>\n",
       "      <td>07:59:00.0000000</td>\n",
       "      <td>N</td>\n",
       "      <td>N</td>\n",
       "    </tr>\n",
       "    <tr>\n",
       "      <th>2</th>\n",
       "      <td>Unknown</td>\n",
       "      <td>None</td>\n",
       "      <td>1961</td>\n",
       "      <td>M</td>\n",
       "      <td>White</td>\n",
       "      <td>White</td>\n",
       "      <td>Male</td>\n",
       "      <td>2015-03-21T00:00:00Z</td>\n",
       "      <td>19:12:00.0000000</td>\n",
       "      <td>N</td>\n",
       "      <td>Unknown</td>\n",
       "    </tr>\n",
       "    <tr>\n",
       "      <th>3</th>\n",
       "      <td>Unknown</td>\n",
       "      <td>None</td>\n",
       "      <td>1963</td>\n",
       "      <td>M</td>\n",
       "      <td>White</td>\n",
       "      <td>Unknown</td>\n",
       "      <td>Unknown</td>\n",
       "      <td>2015-04-01T00:00:00Z</td>\n",
       "      <td>04:55:00.0000000</td>\n",
       "      <td>N</td>\n",
       "      <td>N</td>\n",
       "    </tr>\n",
       "    <tr>\n",
       "      <th>4</th>\n",
       "      <td>Unknown</td>\n",
       "      <td>None</td>\n",
       "      <td>1977</td>\n",
       "      <td>M</td>\n",
       "      <td>White</td>\n",
       "      <td>Black or African American</td>\n",
       "      <td>Male</td>\n",
       "      <td>2015-04-03T00:00:00Z</td>\n",
       "      <td>00:41:00.0000000</td>\n",
       "      <td>N</td>\n",
       "      <td>N</td>\n",
       "    </tr>\n",
       "  </tbody>\n",
       "</table>\n",
       "</div>"
      ],
      "text/plain": [
       "  Subject Age Group Weapon Type  Officer YOB Officer Gender  \\\n",
       "0           Unknown        None         1984              M   \n",
       "1           Unknown        None         1965              M   \n",
       "2           Unknown        None         1961              M   \n",
       "3           Unknown        None         1963              M   \n",
       "4           Unknown        None         1977              M   \n",
       "\n",
       "                Officer Race     Subject Perceived Race  \\\n",
       "0  Black or African American                      Asian   \n",
       "1                      White                    Unknown   \n",
       "2                      White                      White   \n",
       "3                      White                    Unknown   \n",
       "4                      White  Black or African American   \n",
       "\n",
       "  Subject Perceived Gender         Reported Date     Reported Time  \\\n",
       "0                     Male  2015-10-16T00:00:00Z  11:32:00.0000000   \n",
       "1                  Unknown  2015-03-19T00:00:00Z  07:59:00.0000000   \n",
       "2                     Male  2015-03-21T00:00:00Z  19:12:00.0000000   \n",
       "3                  Unknown  2015-04-01T00:00:00Z  04:55:00.0000000   \n",
       "4                     Male  2015-04-03T00:00:00Z  00:41:00.0000000   \n",
       "\n",
       "  Arrest Flag Frisk Flag  \n",
       "0           N          N  \n",
       "1           N          N  \n",
       "2           N    Unknown  \n",
       "3           N          N  \n",
       "4           N          N  "
      ]
     },
     "execution_count": 9,
     "metadata": {},
     "output_type": "execute_result"
    }
   ],
   "source": [
    "df.drop(to_drop, axis=1, inplace=True)\n",
    "df.head()"
   ]
  },
  {
   "cell_type": "code",
   "execution_count": 10,
   "metadata": {},
   "outputs": [
    {
     "data": {
      "text/plain": [
       "Index(['subject_age_group', 'weapon_type', 'officer_YOB', 'officer_gender',\n",
       "       'officer_race', 'subject_perceived_race', 'subject_perceived_gender',\n",
       "       'reported_date', 'reported_time', 'arrest_flag', 'frisk_flag'],\n",
       "      dtype='object')"
      ]
     },
     "execution_count": 10,
     "metadata": {},
     "output_type": "execute_result"
    }
   ],
   "source": [
    "df.columns = ['subject_age_group', 'weapon_type', 'officer_YOB',\n",
    "       'officer_gender', 'officer_race', 'subject_perceived_race',\n",
    "       'subject_perceived_gender', 'reported_date', 'reported_time',\n",
    "       'arrest_flag', 'frisk_flag']\n",
    "df.columns    "
   ]
  },
  {
   "cell_type": "code",
   "execution_count": 11,
   "metadata": {},
   "outputs": [],
   "source": [
    "df['reported_hour'] = pd.to_datetime(df['reported_time']).dt.hour"
   ]
  },
  {
   "cell_type": "code",
   "execution_count": 12,
   "metadata": {},
   "outputs": [],
   "source": [
    "df['reported_month'] = pd.to_datetime(df['reported_date']).dt.month"
   ]
  },
  {
   "cell_type": "markdown",
   "metadata": {},
   "source": [
    "#### Combining the arrest flag and frisk flag column into a target column. If either column indicates a yes the target column with print a Y and N otherwise."
   ]
  },
  {
   "cell_type": "code",
   "execution_count": 13,
   "metadata": {},
   "outputs": [],
   "source": [
    "df['target'] = np.where((df['frisk_flag'] == 'Y') | (df['arrest_flag'] == 'Y'), 1, 0)"
   ]
  },
  {
   "cell_type": "code",
   "execution_count": 14,
   "metadata": {},
   "outputs": [
    {
     "data": {
      "text/plain": [
       "0    0.711232\n",
       "1    0.288768\n",
       "Name: target, dtype: float64"
      ]
     },
     "execution_count": 14,
     "metadata": {},
     "output_type": "execute_result"
    }
   ],
   "source": [
    "df['target'].value_counts(normalize=True)"
   ]
  },
  {
   "cell_type": "markdown",
   "metadata": {},
   "source": []
  },
  {
   "cell_type": "code",
   "execution_count": 15,
   "metadata": {},
   "outputs": [],
   "source": [
    "#sns.countplot(y='subject_age_group', data=df )"
   ]
  },
  {
   "cell_type": "code",
   "execution_count": 17,
   "metadata": {},
   "outputs": [],
   "source": [
    "#minors = df[df['subject_age_group'] == '1_-_17']\n",
    "#minors.head()"
   ]
  },
  {
   "cell_type": "code",
   "execution_count": 18,
   "metadata": {},
   "outputs": [],
   "source": [
    "#terry_df.loc[(df['target'] == 'Yes') | (df['subject_age_group'] == '1_-_17')]"
   ]
  },
  {
   "cell_type": "markdown",
   "metadata": {},
   "source": [
    "#### Looking at weapon type and arrest per weapon group."
   ]
  },
  {
   "cell_type": "code",
   "execution_count": 16,
   "metadata": {},
   "outputs": [
    {
     "data": {
      "image/png": "[encoded data removed]",
      "text/plain": [
       "<Figure size 432x288 with 1 Axes>"
      ]
     },
     "metadata": {
      "needs_background": "light"
     },
     "output_type": "display_data"
    }
   ],
   "source": [
    "sns.countplot(y='weapon_type', data=df );"
   ]
  },
  {
   "cell_type": "code",
   "execution_count": 17,
   "metadata": {},
   "outputs": [
    {
     "data": {
      "image/png": "[encoded data removed]",
      "text/plain": [
       "<Figure size 576x360 with 2 Axes>"
      ]
     },
     "metadata": {
      "needs_background": "light"
     },
     "output_type": "display_data"
    }
   ],
   "source": [
    "sns.catplot(y='weapon_type', col='arrest_flag', data=df, \n",
    "           kind='count', height=5, aspect=.8);"
   ]
  },
  {
   "cell_type": "markdown",
   "metadata": {},
   "source": [
    "#### Looking at target (arrests/frisk) by age group"
   ]
  },
  {
   "cell_type": "code",
   "execution_count": 18,
   "metadata": {},
   "outputs": [
    {
     "data": {
      "text/plain": [
       "subject_perceived_race\n",
       "American Indian or Alaska Native             0.028325\n",
       "Asian                                        0.033324\n",
       "Black or African American                    0.297903\n",
       "Hispanic                                     0.032251\n",
       "Multi-Racial                                 0.015494\n",
       "Native Hawaiian or Other Pacific Islander    0.001743\n",
       "Other                                        0.002911\n",
       "Unknown                                      0.098784\n",
       "White                                        0.489266\n",
       "Name: arrest_flag, dtype: float64"
      ]
     },
     "execution_count": 18,
     "metadata": {},
     "output_type": "execute_result"
    }
   ],
   "source": [
    "df.groupby(['subject_perceived_race'])['arrest_flag'].count() / len(df)"
   ]
  },
  {
   "cell_type": "code",
   "execution_count": 19,
   "metadata": {},
   "outputs": [
    {
     "data": {
      "text/plain": [
       "arrest_flag  subject_perceived_race                   \n",
       "N            American Indian or Alaska Native             0.025950\n",
       "             Asian                                        0.029551\n",
       "             Black or African American                    0.267126\n",
       "             Hispanic                                     0.032251\n",
       "             Multi-Racial                                 0.015494\n",
       "             Native Hawaiian or Other Pacific Islander    0.001264\n",
       "             Other                                        0.002911\n",
       "             Unknown                                      0.089878\n",
       "             White                                        0.446366\n",
       "Y            American Indian or Alaska Native             0.002375\n",
       "             Asian                                        0.003773\n",
       "             Black or African American                    0.030777\n",
       "             Native Hawaiian or Other Pacific Islander    0.000479\n",
       "             Unknown                                      0.008905\n",
       "             White                                        0.042900\n",
       "Name: subject_age_group, dtype: float64"
      ]
     },
     "execution_count": 19,
     "metadata": {},
     "output_type": "execute_result"
    }
   ],
   "source": [
    "df.groupby(['arrest_flag', 'subject_perceived_race'])['subject_age_group'].count() / len(df)"
   ]
  },
  {
   "cell_type": "markdown",
   "metadata": {},
   "source": [
    "## Terry Stops by Race\n",
    "- What is the % breakdown by race?\n",
    "- How does that compare to Seattle census data?\n",
    "    - check for proportion\n",
    "    - https://www.seattle.gov/opcd/population-and-demographics/about-seattle#raceethnicity"
   ]
  },
  {
   "cell_type": "code",
   "execution_count": 20,
   "metadata": {
    "scrolled": true
   },
   "outputs": [
    {
     "data": {
      "text/plain": [
       "White                                        0.489266\n",
       "Black or African American                    0.297903\n",
       "Unknown                                      0.098784\n",
       "Asian                                        0.033324\n",
       "Hispanic                                     0.032251\n",
       "American Indian or Alaska Native             0.028325\n",
       "Multi-Racial                                 0.015494\n",
       "Other                                        0.002911\n",
       "Native Hawaiian or Other Pacific Islander    0.001743\n",
       "Name: subject_perceived_race, dtype: float64"
      ]
     },
     "execution_count": 20,
     "metadata": {},
     "output_type": "execute_result"
    }
   ],
   "source": [
    "df['subject_perceived_race'].value_counts(normalize=True)"
   ]
  },
  {
   "cell_type": "code",
   "execution_count": 21,
   "metadata": {},
   "outputs": [],
   "source": [
    "race = ['White',\n",
    "  'Black or African American',\n",
    "  'Hispanic',\n",
    "  'Asian',\n",
    "  'American Indian or Alaska Native',\n",
    "  'Multi-Racial']\n",
    "\n",
    "terry_stop = [0.489, 0.298, 0.034, 0.032, 0.028, 0.016]\n",
    "\n",
    "census = [0.645, 0.068, 0.066, 0.149, 0.005, 0.06]\n",
    "\n",
    "arrest_frisk = [0.043, 0.031, 0.000, 0.003, 0.002, 0.000]"
   ]
  },
  {
   "cell_type": "code",
   "execution_count": 22,
   "metadata": {},
   "outputs": [],
   "source": [
    "df_new_race = pd.DataFrame({'race':race,\n",
    "                        'terry_stops':terry_stop,\n",
    "                        'arrest_frisk': arrest_frisk,\n",
    "                        'census':census}).set_index(['race'])"
   ]
  },
  {
   "cell_type": "code",
   "execution_count": 23,
   "metadata": {},
   "outputs": [],
   "source": [
    "df_new_race2 = df_new_race * 100"
   ]
  },
  {
   "cell_type": "code",
   "execution_count": 28,
   "metadata": {},
   "outputs": [
    {
     "data": {
      "image/png": "[encoded data removed]",
      "text/plain": [
       "<Figure size 1080x720 with 1 Axes>"
      ]
     },
     "metadata": {
      "needs_background": "light"
     },
     "output_type": "display_data"
    }
   ],
   "source": [
    "ax = df_new_race2.plot(kind = 'barh', figsize = (15,10))\n",
    "\n",
    "for i, v in enumerate(df_new_race2.terry_stops):\n",
    "    ax.text(v, i-.21, '{:.2f}%'.format(v),fontsize = 12)\n",
    "\n",
    "for i, v in enumerate(df_new_race2.census):\n",
    "    ax.text(v, i+.13, '{:.2f}%'.format(v),fontsize = 12)\n",
    "    \n",
    "for i, v in enumerate(df_new_race2['arrest_frisk']):\n",
    "    ax.text(v, i-.035, '{:.2f}%'.format(v),fontsize = 12)\n",
    "\n",
    "ax.set_title('Seattle Census Demographics v. Terry Stop Demographics', fontsize=27)\n",
    "ax.set_xlabel('Percent', fontsize = 20)\n",
    "ax.set_ylabel('Race', fontsize = 20)\n",
    "leg = ax.legend(loc = 'best', labels = ['% of Total Terry Stops', '% of Arrest/Frisk', 'Seattle Census Population %'], fontsize = 'large')\n",
    "# for text in leg.get_texts():\n",
    "#     text.set_color(\"white\")\n",
    "\n",
    "plt.xticks(rotation = 45, ha='right', fontsize = 17)\n",
    "plt.yticks(fontsize=17, rotation = 25)\n",
    "\n",
    "# ax.xaxis.label.set_color('white')\n",
    "# ax.yaxis.label.set_color('white')\n",
    "# ax.title.set_color('white')\n",
    "\n",
    "\n",
    "ax.xaxis.set_major_formatter(StrMethodFormatter('{x:,.0f}%'))\n",
    "\n",
    "plt.show()"
   ]
  },
  {
   "cell_type": "code",
   "execution_count": 29,
   "metadata": {},
   "outputs": [
    {
     "data": {
      "image/png": "[encoded data removed]",
      "text/plain": [
       "<Figure size 1080x720 with 1 Axes>"
      ]
     },
     "metadata": {
      "needs_background": "dark"
     },
     "output_type": "display_data"
    }
   ],
   "source": [
    "ax = df_new_race2.plot(kind = 'barh', figsize = (15,10))\n",
    "\n",
    "for i, v in enumerate(df_new_race2.terry_stops):\n",
    "    ax.text(v, i-.21, '{:.2f}%'.format(v),fontsize = 12)\n",
    "\n",
    "for i, v in enumerate(df_new_race2.census):\n",
    "    ax.text(v, i+.13, '{:.2f}%'.format(v),fontsize = 12)\n",
    "    \n",
    "for i, v in enumerate(df_new_race2['arrest_frisk']):\n",
    "    ax.text(v, i-.035, '{:.2f}%'.format(v),fontsize = 12)\n",
    "\n",
    "# ax.set_title('Seattle Census Demographics v. Terry Stop Demographics', fontsize=27)\n",
    "ax.set_xlabel('Percent', fontsize = 20)\n",
    "ax.set_ylabel('Race', fontsize = 20)\n",
    "leg = ax.legend(loc = 'best', labels = ['% of Total Terry Stops', '% of Arrest/Frisk', 'Seattle Census Population %'], fontsize = 'large')\n",
    "# for text in leg.get_texts():\n",
    "#     text.set_color(\"white\")\n",
    "\n",
    "plt.xticks(rotation = 45, ha='right', fontsize = 17, color = 'w' )\n",
    "plt.yticks(fontsize=17, rotation = 25, color = 'w')\n",
    "\n",
    "ax.xaxis.label.set_color('white')\n",
    "ax.yaxis.label.set_color('white')\n",
    "ax.title.set_color('white')\n",
    "\n",
    "\n",
    "ax.xaxis.set_major_formatter(StrMethodFormatter('{x:,.0f}%'))\n",
    "\n",
    "plt.show()\n",
    "\n",
    "# Cleared the title colors for the presentation. Keeping in notebook for future reference."
   ]
  },
  {
   "cell_type": "code",
   "execution_count": 50,
   "metadata": {},
   "outputs": [
    {
     "data": {
      "text/plain": [
       "0           Male\n",
       "1        Unknown\n",
       "2           Male\n",
       "3        Unknown\n",
       "4           Male\n",
       "          ...   \n",
       "52210       Male\n",
       "52211       Male\n",
       "52212       Male\n",
       "52213       Male\n",
       "52214       Male\n",
       "Name: subject_perceived_gender, Length: 52215, dtype: object"
      ]
     },
     "execution_count": 50,
     "metadata": {},
     "output_type": "execute_result"
    }
   ],
   "source": [
    "df['subject_perceived_gender']"
   ]
  },
  {
   "cell_type": "markdown",
   "metadata": {},
   "source": [
    "## Train-test-split"
   ]
  },
  {
   "cell_type": "code",
   "execution_count": 23,
   "metadata": {},
   "outputs": [],
   "source": [
    "X = df.drop(columns = ['reported_date', 'reported_time', 'arrest_flag', 'frisk_flag', 'target'])\n",
    "y = df['target']\n",
    "\n",
    "\n",
    "X_train, X_test, y_train, y_test = train_test_split(X, y, random_state=42)"
   ]
  },
  {
   "cell_type": "code",
   "execution_count": 24,
   "metadata": {},
   "outputs": [
    {
     "name": "stdout",
     "output_type": "stream",
     "text": [
      "<class 'pandas.core.frame.DataFrame'>\n",
      "Int64Index: 39161 entries, 25990 to 15795\n",
      "Data columns (total 9 columns):\n",
      " #   Column                    Non-Null Count  Dtype \n",
      "---  ------                    --------------  ----- \n",
      " 0   subject_age_group         39161 non-null  object\n",
      " 1   weapon_type               39161 non-null  object\n",
      " 2   officer_YOB               39161 non-null  int64 \n",
      " 3   officer_gender            39161 non-null  object\n",
      " 4   officer_race              39161 non-null  object\n",
      " 5   subject_perceived_race    39161 non-null  object\n",
      " 6   subject_perceived_gender  39161 non-null  object\n",
      " 7   reported_hour             39161 non-null  int64 \n",
      " 8   reported_month            39161 non-null  int64 \n",
      "dtypes: int64(3), object(6)\n",
      "memory usage: 3.0+ MB\n"
     ]
    }
   ],
   "source": [
    "X_train.info()"
   ]
  },
  {
   "cell_type": "code",
   "execution_count": 25,
   "metadata": {},
   "outputs": [
    {
     "data": {
      "text/html": [
       "<div>\n",
       "<style scoped>\n",
       "    .dataframe tbody tr th:only-of-type {\n",
       "        vertical-align: middle;\n",
       "    }\n",
       "\n",
       "    .dataframe tbody tr th {\n",
       "        vertical-align: top;\n",
       "    }\n",
       "\n",
       "    .dataframe thead th {\n",
       "        text-align: right;\n",
       "    }\n",
       "</style>\n",
       "<table border=\"1\" class=\"dataframe\">\n",
       "  <thead>\n",
       "    <tr style=\"text-align: right;\">\n",
       "      <th></th>\n",
       "      <th>subject_age_group</th>\n",
       "      <th>weapon_type</th>\n",
       "      <th>officer_YOB</th>\n",
       "      <th>officer_gender</th>\n",
       "      <th>officer_race</th>\n",
       "      <th>subject_perceived_race</th>\n",
       "      <th>subject_perceived_gender</th>\n",
       "      <th>reported_hour</th>\n",
       "      <th>reported_month</th>\n",
       "    </tr>\n",
       "  </thead>\n",
       "  <tbody>\n",
       "    <tr>\n",
       "      <th>25990</th>\n",
       "      <td>26 - 35</td>\n",
       "      <td>Unknown</td>\n",
       "      <td>1992</td>\n",
       "      <td>M</td>\n",
       "      <td>White</td>\n",
       "      <td>Black or African American</td>\n",
       "      <td>Female</td>\n",
       "      <td>9</td>\n",
       "      <td>12</td>\n",
       "    </tr>\n",
       "    <tr>\n",
       "      <th>38639</th>\n",
       "      <td>36 - 45</td>\n",
       "      <td>Unknown</td>\n",
       "      <td>1994</td>\n",
       "      <td>M</td>\n",
       "      <td>White</td>\n",
       "      <td>White</td>\n",
       "      <td>Male</td>\n",
       "      <td>20</td>\n",
       "      <td>11</td>\n",
       "    </tr>\n",
       "  </tbody>\n",
       "</table>\n",
       "</div>"
      ],
      "text/plain": [
       "      subject_age_group weapon_type  officer_YOB officer_gender officer_race  \\\n",
       "25990           26 - 35     Unknown         1992              M        White   \n",
       "38639           36 - 45     Unknown         1994              M        White   \n",
       "\n",
       "          subject_perceived_race subject_perceived_gender  reported_hour  \\\n",
       "25990  Black or African American                   Female              9   \n",
       "38639                      White                     Male             20   \n",
       "\n",
       "       reported_month  \n",
       "25990              12  \n",
       "38639              11  "
      ]
     },
     "execution_count": 25,
     "metadata": {},
     "output_type": "execute_result"
    }
   ],
   "source": [
    "X_train.head(2)"
   ]
  },
  {
   "cell_type": "code",
   "execution_count": 26,
   "metadata": {},
   "outputs": [
    {
     "data": {
      "text/html": [
       "<div>\n",
       "<style scoped>\n",
       "    .dataframe tbody tr th:only-of-type {\n",
       "        vertical-align: middle;\n",
       "    }\n",
       "\n",
       "    .dataframe tbody tr th {\n",
       "        vertical-align: top;\n",
       "    }\n",
       "\n",
       "    .dataframe thead th {\n",
       "        text-align: right;\n",
       "    }\n",
       "</style>\n",
       "<table border=\"1\" class=\"dataframe\">\n",
       "  <thead>\n",
       "    <tr style=\"text-align: right;\">\n",
       "      <th></th>\n",
       "      <th>officer_YOB</th>\n",
       "      <th>reported_hour</th>\n",
       "      <th>reported_month</th>\n",
       "    </tr>\n",
       "  </thead>\n",
       "  <tbody>\n",
       "    <tr>\n",
       "      <th>count</th>\n",
       "      <td>39161.000000</td>\n",
       "      <td>39161.000000</td>\n",
       "      <td>39161.000000</td>\n",
       "    </tr>\n",
       "    <tr>\n",
       "      <th>mean</th>\n",
       "      <td>1983.397257</td>\n",
       "      <td>11.741912</td>\n",
       "      <td>6.398228</td>\n",
       "    </tr>\n",
       "    <tr>\n",
       "      <th>std</th>\n",
       "      <td>9.022672</td>\n",
       "      <td>7.208553</td>\n",
       "      <td>3.321851</td>\n",
       "    </tr>\n",
       "    <tr>\n",
       "      <th>min</th>\n",
       "      <td>1900.000000</td>\n",
       "      <td>0.000000</td>\n",
       "      <td>1.000000</td>\n",
       "    </tr>\n",
       "    <tr>\n",
       "      <th>25%</th>\n",
       "      <td>1979.000000</td>\n",
       "      <td>5.000000</td>\n",
       "      <td>4.000000</td>\n",
       "    </tr>\n",
       "    <tr>\n",
       "      <th>50%</th>\n",
       "      <td>1985.000000</td>\n",
       "      <td>13.000000</td>\n",
       "      <td>6.000000</td>\n",
       "    </tr>\n",
       "    <tr>\n",
       "      <th>75%</th>\n",
       "      <td>1990.000000</td>\n",
       "      <td>18.000000</td>\n",
       "      <td>9.000000</td>\n",
       "    </tr>\n",
       "    <tr>\n",
       "      <th>max</th>\n",
       "      <td>2000.000000</td>\n",
       "      <td>23.000000</td>\n",
       "      <td>12.000000</td>\n",
       "    </tr>\n",
       "  </tbody>\n",
       "</table>\n",
       "</div>"
      ],
      "text/plain": [
       "        officer_YOB  reported_hour  reported_month\n",
       "count  39161.000000   39161.000000    39161.000000\n",
       "mean    1983.397257      11.741912        6.398228\n",
       "std        9.022672       7.208553        3.321851\n",
       "min     1900.000000       0.000000        1.000000\n",
       "25%     1979.000000       5.000000        4.000000\n",
       "50%     1985.000000      13.000000        6.000000\n",
       "75%     1990.000000      18.000000        9.000000\n",
       "max     2000.000000      23.000000       12.000000"
      ]
     },
     "execution_count": 26,
     "metadata": {},
     "output_type": "execute_result"
    }
   ],
   "source": [
    "X_train.describe()"
   ]
  },
  {
   "cell_type": "code",
   "execution_count": 27,
   "metadata": {},
   "outputs": [
    {
     "data": {
      "text/html": [
       "<div>\n",
       "<style scoped>\n",
       "    .dataframe tbody tr th:only-of-type {\n",
       "        vertical-align: middle;\n",
       "    }\n",
       "\n",
       "    .dataframe tbody tr th {\n",
       "        vertical-align: top;\n",
       "    }\n",
       "\n",
       "    .dataframe thead th {\n",
       "        text-align: right;\n",
       "    }\n",
       "</style>\n",
       "<table border=\"1\" class=\"dataframe\">\n",
       "  <thead>\n",
       "    <tr style=\"text-align: right;\">\n",
       "      <th></th>\n",
       "      <th>subject_age_group</th>\n",
       "      <th>weapon_type</th>\n",
       "      <th>officer_gender</th>\n",
       "      <th>officer_race</th>\n",
       "      <th>subject_perceived_race</th>\n",
       "      <th>subject_perceived_gender</th>\n",
       "    </tr>\n",
       "  </thead>\n",
       "  <tbody>\n",
       "    <tr>\n",
       "      <th>count</th>\n",
       "      <td>39161</td>\n",
       "      <td>39161</td>\n",
       "      <td>39161</td>\n",
       "      <td>39161</td>\n",
       "      <td>39161</td>\n",
       "      <td>39161</td>\n",
       "    </tr>\n",
       "    <tr>\n",
       "      <th>unique</th>\n",
       "      <td>7</td>\n",
       "      <td>21</td>\n",
       "      <td>3</td>\n",
       "      <td>9</td>\n",
       "      <td>9</td>\n",
       "      <td>5</td>\n",
       "    </tr>\n",
       "    <tr>\n",
       "      <th>top</th>\n",
       "      <td>26 - 35</td>\n",
       "      <td>None</td>\n",
       "      <td>M</td>\n",
       "      <td>White</td>\n",
       "      <td>White</td>\n",
       "      <td>Male</td>\n",
       "    </tr>\n",
       "    <tr>\n",
       "      <th>freq</th>\n",
       "      <td>13106</td>\n",
       "      <td>24451</td>\n",
       "      <td>34694</td>\n",
       "      <td>28910</td>\n",
       "      <td>19177</td>\n",
       "      <td>30793</td>\n",
       "    </tr>\n",
       "  </tbody>\n",
       "</table>\n",
       "</div>"
      ],
      "text/plain": [
       "       subject_age_group weapon_type officer_gender officer_race  \\\n",
       "count              39161       39161          39161        39161   \n",
       "unique                 7          21              3            9   \n",
       "top              26 - 35        None              M        White   \n",
       "freq               13106       24451          34694        28910   \n",
       "\n",
       "       subject_perceived_race subject_perceived_gender  \n",
       "count                   39161                    39161  \n",
       "unique                      9                        5  \n",
       "top                     White                     Male  \n",
       "freq                    19177                    30793  "
      ]
     },
     "execution_count": 27,
     "metadata": {},
     "output_type": "execute_result"
    }
   ],
   "source": [
    "X_train.describe(include='O')"
   ]
  },
  {
   "cell_type": "code",
   "execution_count": 28,
   "metadata": {},
   "outputs": [
    {
     "data": {
      "text/plain": [
       "26 - 35         13106\n",
       "36 - 45          8429\n",
       "18 - 25          7719\n",
       "46 - 55          5032\n",
       "56 and Above     2015\n",
       "1 - 17           1537\n",
       "Unknown          1323\n",
       "Name: subject_age_group, dtype: int64"
      ]
     },
     "metadata": {},
     "output_type": "display_data"
    },
    {
     "name": "stdout",
     "output_type": "stream",
     "text": [
      "********************\n"
     ]
    },
    {
     "data": {
      "text/plain": [
       "None                                    24451\n",
       "Unknown                                 12311\n",
       "Lethal Cutting Instrument                1142\n",
       "Knife/Cutting/Stabbing Instrument         662\n",
       "Handgun                                   243\n",
       "Blunt Object/Striking Implement            90\n",
       "Firearm Other                              77\n",
       "Firearm                                    39\n",
       "Club, Blackjack, Brass Knuckles            38\n",
       "Mace/Pepper Spray                          34\n",
       "Other Firearm                              21\n",
       "Firearm (unk type)                         13\n",
       "Taser/Stun Gun                              9\n",
       "Rifle                                       7\n",
       "None/Not Applicable                         7\n",
       "Fire/Incendiary Device                      5\n",
       "Shotgun                                     4\n",
       "Club                                        4\n",
       "Personal Weapons (hands, feet, etc.)        2\n",
       "Brass Knuckles                              1\n",
       "Automatic Handgun                           1\n",
       "Name: weapon_type, dtype: int64"
      ]
     },
     "metadata": {},
     "output_type": "display_data"
    },
    {
     "name": "stdout",
     "output_type": "stream",
     "text": [
      "********************\n"
     ]
    },
    {
     "data": {
      "text/plain": [
       "1986    2748\n",
       "1987    2525\n",
       "1984    2204\n",
       "1991    2184\n",
       "1992    2037\n",
       "1990    1977\n",
       "1985    1955\n",
       "1988    1714\n",
       "1989    1666\n",
       "1982    1404\n",
       "1983    1382\n",
       "1979    1252\n",
       "1993    1251\n",
       "1995    1220\n",
       "1981    1162\n",
       "1971     949\n",
       "1976     938\n",
       "1994     923\n",
       "1978     899\n",
       "1977     785\n",
       "1973     754\n",
       "1996     691\n",
       "1980     684\n",
       "1967     589\n",
       "1970     495\n",
       "1968     490\n",
       "1997     473\n",
       "1969     445\n",
       "1974     435\n",
       "1975     414\n",
       "1962     368\n",
       "1972     328\n",
       "1965     316\n",
       "1964     312\n",
       "1963     192\n",
       "1961     170\n",
       "1966     167\n",
       "1958     154\n",
       "1959     134\n",
       "1960     126\n",
       "1998      72\n",
       "1957      34\n",
       "1954      33\n",
       "1953      25\n",
       "1900      23\n",
       "1955      16\n",
       "1956      12\n",
       "1999      11\n",
       "1952       7\n",
       "1948       6\n",
       "2000       5\n",
       "1949       4\n",
       "1946       1\n",
       "Name: officer_YOB, dtype: int64"
      ]
     },
     "metadata": {},
     "output_type": "display_data"
    },
    {
     "name": "stdout",
     "output_type": "stream",
     "text": [
      "********************\n"
     ]
    },
    {
     "data": {
      "text/plain": [
       "M    34694\n",
       "F     4446\n",
       "N       21\n",
       "Name: officer_gender, dtype: int64"
      ]
     },
     "metadata": {},
     "output_type": "display_data"
    },
    {
     "name": "stdout",
     "output_type": "stream",
     "text": [
      "********************\n"
     ]
    },
    {
     "data": {
      "text/plain": [
       "White                            28910\n",
       "Hispanic or Latino                2362\n",
       "Two or More Races                 2306\n",
       "Asian                             1811\n",
       "Not Specified                     1619\n",
       "Black or African American         1527\n",
       "Nat Hawaiian/Oth Pac Islander      353\n",
       "American Indian/Alaska Native      250\n",
       "Unknown                             23\n",
       "Name: officer_race, dtype: int64"
      ]
     },
     "metadata": {},
     "output_type": "display_data"
    },
    {
     "name": "stdout",
     "output_type": "stream",
     "text": [
      "********************\n"
     ]
    },
    {
     "data": {
      "text/plain": [
       "White                                        19177\n",
       "Black or African American                    11690\n",
       "Unknown                                       3863\n",
       "Asian                                         1300\n",
       "Hispanic                                      1269\n",
       "American Indian or Alaska Native              1094\n",
       "Multi-Racial                                   592\n",
       "Other                                          115\n",
       "Native Hawaiian or Other Pacific Islander       61\n",
       "Name: subject_perceived_race, dtype: int64"
      ]
     },
     "metadata": {},
     "output_type": "display_data"
    },
    {
     "name": "stdout",
     "output_type": "stream",
     "text": [
      "********************\n"
     ]
    },
    {
     "data": {
      "text/plain": [
       "Male                                                         30793\n",
       "Female                                                        7894\n",
       "Unable to Determine                                            237\n",
       "Unknown                                                        225\n",
       "Gender Diverse (gender non-conforming and/or transgender)       12\n",
       "Name: subject_perceived_gender, dtype: int64"
      ]
     },
     "metadata": {},
     "output_type": "display_data"
    },
    {
     "name": "stdout",
     "output_type": "stream",
     "text": [
      "********************\n"
     ]
    },
    {
     "data": {
      "text/plain": [
       "18    2348\n",
       "2     2268\n",
       "3     2124\n",
       "19    2114\n",
       "17    2043\n",
       "1     1989\n",
       "23    1958\n",
       "16    1853\n",
       "0     1803\n",
       "22    1730\n",
       "15    1725\n",
       "14    1694\n",
       "11    1616\n",
       "10    1559\n",
       "13    1504\n",
       "21    1481\n",
       "12    1251\n",
       "5     1251\n",
       "9     1233\n",
       "4     1230\n",
       "20    1179\n",
       "8     1122\n",
       "7     1059\n",
       "6     1027\n",
       "Name: reported_hour, dtype: int64"
      ]
     },
     "metadata": {},
     "output_type": "display_data"
    },
    {
     "name": "stdout",
     "output_type": "stream",
     "text": [
      "********************\n"
     ]
    },
    {
     "data": {
      "text/plain": [
       "5     4078\n",
       "6     3700\n",
       "7     3536\n",
       "4     3470\n",
       "10    3303\n",
       "8     3277\n",
       "3     3228\n",
       "1     3179\n",
       "9     2977\n",
       "11    2919\n",
       "2     2760\n",
       "12    2734\n",
       "Name: reported_month, dtype: int64"
      ]
     },
     "metadata": {},
     "output_type": "display_data"
    },
    {
     "name": "stdout",
     "output_type": "stream",
     "text": [
      "********************\n"
     ]
    }
   ],
   "source": [
    "for col in X_train.columns:\n",
    "    display(X_train[col].value_counts())\n",
    "    print(\"*\" * 20)\n"
   ]
  },
  {
   "cell_type": "markdown",
   "metadata": {},
   "source": [
    "#### One hot encoder"
   ]
  },
  {
   "cell_type": "code",
   "execution_count": 29,
   "metadata": {},
   "outputs": [],
   "source": [
    "cat_cols = []\n",
    "for col in X_train.columns:\n",
    "    if len(X_train[col].unique()) < 10:\n",
    "        cat_cols.append(col)"
   ]
  },
  {
   "cell_type": "code",
   "execution_count": 30,
   "metadata": {},
   "outputs": [
    {
     "data": {
      "text/plain": [
       "['subject_age_group',\n",
       " 'officer_gender',\n",
       " 'officer_race',\n",
       " 'subject_perceived_race',\n",
       " 'subject_perceived_gender']"
      ]
     },
     "execution_count": 30,
     "metadata": {},
     "output_type": "execute_result"
    }
   ],
   "source": [
    "cat_cols"
   ]
  },
  {
   "cell_type": "code",
   "execution_count": 31,
   "metadata": {},
   "outputs": [],
   "source": [
    "cat_transformer = Pipeline(steps = [\n",
    " ('ohe', OneHotEncoder(drop='first', sparse=False))\n",
    "])\n"
   ]
  },
  {
   "cell_type": "code",
   "execution_count": 32,
   "metadata": {},
   "outputs": [],
   "source": [
    "num_cols = ['reported_hour', 'reported_month']"
   ]
  },
  {
   "cell_type": "code",
   "execution_count": 33,
   "metadata": {},
   "outputs": [],
   "source": [
    "preprocessor = ColumnTransformer(transformers = [\n",
    "    ('cat_trans', cat_transformer, cat_cols),\n",
    "    ('num_trans', MinMaxScaler(), num_cols)\n",
    "], remainder='passthrough')\n"
   ]
  },
  {
   "cell_type": "code",
   "execution_count": 34,
   "metadata": {},
   "outputs": [],
   "source": [
    "X_train_one = X_train.drop(columns=['weapon_type', 'officer_YOB'])\n",
    "X_test_one = X_test.drop(columns=['weapon_type', 'officer_YOB'])"
   ]
  },
  {
   "cell_type": "code",
   "execution_count": 35,
   "metadata": {},
   "outputs": [],
   "source": [
    "X_tr_pr = preprocessor.fit_transform(X_train_one)\n",
    "X_te_pr = preprocessor.transform(X_test_one)"
   ]
  },
  {
   "cell_type": "markdown",
   "metadata": {},
   "source": [
    "##  Model 1: Logistic Regression\n",
    "- 5 total models will be created below and the same process will followed for all.\n",
    "    - Pipeline\n",
    "    - Fit the data\n",
    "    - Predict the train and test data\n",
    "    - Print the scores\n",
    "    - Plot the accurarcy curve\n",
    "    - Plot the confusion matrix    "
   ]
  },
  {
   "cell_type": "code",
   "execution_count": 36,
   "metadata": {},
   "outputs": [],
   "source": [
    "lrm = Pipeline(steps = [\n",
    "    ('preprocessor', preprocessor),\n",
    "    ('lr', LogisticRegression(max_iter=1000))\n",
    "])\n"
   ]
  },
  {
   "cell_type": "code",
   "execution_count": 37,
   "metadata": {},
   "outputs": [],
   "source": [
    "cv_results = cross_validate(lrm, X_train_one, y_train)"
   ]
  },
  {
   "cell_type": "code",
   "execution_count": 38,
   "metadata": {},
   "outputs": [
    {
     "data": {
      "text/plain": [
       "array([0.71390272, 0.71399387, 0.71386619, 0.71373851, 0.71386619])"
      ]
     },
     "execution_count": 38,
     "metadata": {},
     "output_type": "execute_result"
    }
   ],
   "source": [
    "cv_results['test_score']"
   ]
  },
  {
   "cell_type": "code",
   "execution_count": 39,
   "metadata": {
    "scrolled": true
   },
   "outputs": [
    {
     "data": {
      "text/plain": [
       "Pipeline(steps=[('preprocessor',\n",
       "                 ColumnTransformer(remainder='passthrough',\n",
       "                                   transformers=[('cat_trans',\n",
       "                                                  Pipeline(steps=[('ohe',\n",
       "                                                                   OneHotEncoder(drop='first',\n",
       "                                                                                 sparse=False))]),\n",
       "                                                  ['subject_age_group',\n",
       "                                                   'officer_gender',\n",
       "                                                   'officer_race',\n",
       "                                                   'subject_perceived_race',\n",
       "                                                   'subject_perceived_gender']),\n",
       "                                                 ('num_trans', MinMaxScaler(),\n",
       "                                                  ['reported_hour',\n",
       "                                                   'reported_month'])])),\n",
       "                ('lr', LogisticRegression(max_iter=1000))])"
      ]
     },
     "execution_count": 39,
     "metadata": {},
     "output_type": "execute_result"
    }
   ],
   "source": [
    "lrm.fit(X_train_one, y_train)"
   ]
  },
  {
   "cell_type": "code",
   "execution_count": 40,
   "metadata": {},
   "outputs": [
    {
     "name": "stdout",
     "output_type": "stream",
     "text": [
      "Train F1:0.0039\n",
      "Train Precision:0.6471\n",
      "Test ROC-AUC:0.5938\n",
      "********************\n",
      "Test F1:0.0036\n",
      "Test Precision:0.5000\n",
      "Test ROC-AUC:0.5924\n"
     ]
    }
   ],
   "source": [
    "te_pred_lrm = lrm.predict(X_test_one)\n",
    "tr_pred_lrm = lrm.predict(X_train_one)\n",
    "\n",
    "train_probas_lrm = lrm.predict_proba(X_train_one)[:,1]\n",
    "test_probas_lrm = lrm.predict_proba(X_test_one)[:,1]\n",
    "\n",
    "\n",
    "print(f\"Train F1:{f1_score(y_train, tr_pred_lrm):.4f}\")\n",
    "print(f\"Train Precision:{precision_score(y_train, tr_pred_lrm):.4f}\")\n",
    "print(f\"Test ROC-AUC:{roc_auc_score(y_train, train_probas_lrm):.4f}\")\n",
    "print(\"*\" * 20)\n",
    "print(f\"Test F1:{f1_score(y_test, te_pred_lrm):.4f}\")\n",
    "print(f\"Test Precision:{precision_score(y_test, te_pred_lrm):.4f}\")\n",
    "print(f\"Test ROC-AUC:{roc_auc_score(y_test, test_probas_lrm):.4f}\")"
   ]
  },
  {
   "cell_type": "code",
   "execution_count": 41,
   "metadata": {},
   "outputs": [
    {
     "data": {
      "text/plain": [
       "<sklearn.metrics._plot.roc_curve.RocCurveDisplay at 0x1ef4d14cee0>"
      ]
     },
     "execution_count": 41,
     "metadata": {},
     "output_type": "execute_result"
    },
    {
     "data": {
      "image/png": "[encoded data removed]",
      "text/plain": [
       "<Figure size 432x288 with 1 Axes>"
      ]
     },
     "metadata": {
      "needs_background": "light"
     },
     "output_type": "display_data"
    }
   ],
   "source": [
    "plot_roc_curve(lrm, X_test_one, y_test)"
   ]
  },
  {
   "cell_type": "code",
   "execution_count": 42,
   "metadata": {},
   "outputs": [
    {
     "data": {
      "image/png": "[encoded data removed]",
      "text/plain": [
       "<Figure size 432x288 with 2 Axes>"
      ]
     },
     "metadata": {
      "needs_background": "light"
     },
     "output_type": "display_data"
    }
   ],
   "source": [
    "plot_confusion_matrix(lrm, X_test_one, y_test);"
   ]
  },
  {
   "cell_type": "markdown",
   "metadata": {},
   "source": [
    "## Model 2: Decision Tree"
   ]
  },
  {
   "cell_type": "code",
   "execution_count": 43,
   "metadata": {},
   "outputs": [
    {
     "data": {
      "text/plain": [
       "Pipeline(steps=[('preprocessor',\n",
       "                 ColumnTransformer(remainder='passthrough',\n",
       "                                   transformers=[('cat_trans',\n",
       "                                                  Pipeline(steps=[('ohe',\n",
       "                                                                   OneHotEncoder(drop='first',\n",
       "                                                                                 sparse=False))]),\n",
       "                                                  ['subject_age_group',\n",
       "                                                   'officer_gender',\n",
       "                                                   'officer_race',\n",
       "                                                   'subject_perceived_race',\n",
       "                                                   'subject_perceived_gender']),\n",
       "                                                 ('num_trans', MinMaxScaler(),\n",
       "                                                  ['reported_hour',\n",
       "                                                   'reported_month'])])),\n",
       "                ('dt', DecisionTreeClassifier())])"
      ]
     },
     "execution_count": 43,
     "metadata": {},
     "output_type": "execute_result"
    }
   ],
   "source": [
    "dtm = Pipeline(steps = [\n",
    " ('preprocessor', preprocessor),\n",
    " ('dt', DecisionTreeClassifier())\n",
    "])\n",
    "\n",
    "dtm.fit(X_train_one, y_train)"
   ]
  },
  {
   "cell_type": "code",
   "execution_count": 44,
   "metadata": {},
   "outputs": [
    {
     "name": "stdout",
     "output_type": "stream",
     "text": [
      "Train F1:0.6719\n",
      "Train Precision:0.8862\n",
      "Test ROC-AUC:0.9266\n",
      "********************\n",
      "Test F1:0.2777\n",
      "Test Precision:0.3552\n",
      "Test ROC-AUC:0.5475\n"
     ]
    }
   ],
   "source": [
    "te_pred_dt = dtm.predict(X_test_one)\n",
    "tr_pred_dt = dtm.predict(X_train_one)\n",
    "\n",
    "train_probas_dt = dtm.predict_proba(X_train_one)[:,1]\n",
    "test_probas_dt = dtm.predict_proba(X_test_one)[:,1]\n",
    "\n",
    "\n",
    "print(f\"Train F1:{f1_score(y_train, tr_pred_dt):.4f}\")\n",
    "print(f\"Train Precision:{precision_score(y_train, tr_pred_dt):.4f}\")\n",
    "print(f\"Test ROC-AUC:{roc_auc_score(y_train, train_probas_dt):.4f}\")\n",
    "print(\"*\" * 20)\n",
    "print(f\"Test F1:{f1_score(y_test, te_pred_dt):.4f}\")\n",
    "print(f\"Test Precision:{precision_score(y_test, te_pred_dt):.4f}\")\n",
    "print(f\"Test ROC-AUC:{roc_auc_score(y_test, test_probas_dt):.4f}\")"
   ]
  },
  {
   "cell_type": "code",
   "execution_count": 45,
   "metadata": {},
   "outputs": [
    {
     "data": {
      "image/png": "[encoded data removed]",
      "text/plain": [
       "<Figure size 432x288 with 2 Axes>"
      ]
     },
     "metadata": {
      "needs_background": "light"
     },
     "output_type": "display_data"
    }
   ],
   "source": [
    "plot_confusion_matrix(dtm, X_test_one, y_test);"
   ]
  },
  {
   "cell_type": "code",
   "execution_count": 46,
   "metadata": {
    "scrolled": true
   },
   "outputs": [
    {
     "data": {
      "image/png": "[encoded data removed]",
      "text/plain": [
       "<Figure size 432x288 with 1 Axes>"
      ]
     },
     "metadata": {
      "needs_background": "light"
     },
     "output_type": "display_data"
    }
   ],
   "source": [
    "plot_roc_curve(dtm, X_test_one, y_test);\n"
   ]
  },
  {
   "cell_type": "markdown",
   "metadata": {},
   "source": [
    "## Model 3: KNN"
   ]
  },
  {
   "cell_type": "code",
   "execution_count": 47,
   "metadata": {},
   "outputs": [
    {
     "data": {
      "text/plain": [
       "Pipeline(steps=[('preprocessor',\n",
       "                 ColumnTransformer(remainder='passthrough',\n",
       "                                   transformers=[('cat_trans',\n",
       "                                                  Pipeline(steps=[('ohe',\n",
       "                                                                   OneHotEncoder(drop='first',\n",
       "                                                                                 sparse=False))]),\n",
       "                                                  ['subject_age_group',\n",
       "                                                   'officer_gender',\n",
       "                                                   'officer_race',\n",
       "                                                   'subject_perceived_race',\n",
       "                                                   'subject_perceived_gender']),\n",
       "                                                 ('num_trans', MinMaxScaler(),\n",
       "                                                  ['reported_hour',\n",
       "                                                   'reported_month'])])),\n",
       "                ('knn', KNeighborsClassifier())])"
      ]
     },
     "execution_count": 47,
     "metadata": {},
     "output_type": "execute_result"
    }
   ],
   "source": [
    "knn = Pipeline(steps = [\n",
    " ('preprocessor', preprocessor),\n",
    " ('knn', KNeighborsClassifier())\n",
    "])\n",
    "\n",
    "knn.fit(X_train_one, y_train)"
   ]
  },
  {
   "cell_type": "code",
   "execution_count": 48,
   "metadata": {},
   "outputs": [
    {
     "name": "stdout",
     "output_type": "stream",
     "text": [
      "Train F1:0.4543\n",
      "Train Precision:0.6097\n",
      "Test ROC-AUC:0.7627\n",
      "********************\n",
      "Test F1:0.2682\n",
      "Test Precision:0.3681\n",
      "Test ROC-AUC:0.5509\n"
     ]
    }
   ],
   "source": [
    "te_pred_knn = knn.predict(X_test_one)\n",
    "tr_pred_knn = knn.predict(X_train_one)\n",
    "\n",
    "train_probas_knn = knn.predict_proba(X_train_one)[:,1]\n",
    "test_probas_knn = knn.predict_proba(X_test_one)[:,1]\n",
    "\n",
    "\n",
    "print(f\"Train F1:{f1_score(y_train, tr_pred_knn):.4f}\")\n",
    "print(f\"Train Precision:{precision_score(y_train, tr_pred_knn):.4f}\")\n",
    "print(f\"Test ROC-AUC:{roc_auc_score(y_train, train_probas_knn):.4f}\")\n",
    "print(\"*\" * 20)\n",
    "print(f\"Test F1:{f1_score(y_test, te_pred_knn):.4f}\")\n",
    "print(f\"Test Precision:{precision_score(y_test, te_pred_knn):.4f}\")\n",
    "print(f\"Test ROC-AUC:{roc_auc_score(y_test, test_probas_knn):.4f}\")\n"
   ]
  },
  {
   "cell_type": "code",
   "execution_count": 49,
   "metadata": {},
   "outputs": [
    {
     "data": {
      "image/png": "[encoded data removed]",
      "text/plain": [
       "<Figure size 432x288 with 2 Axes>"
      ]
     },
     "metadata": {
      "needs_background": "light"
     },
     "output_type": "display_data"
    }
   ],
   "source": [
    "plot_confusion_matrix(knn, X_test_one, y_test);"
   ]
  },
  {
   "cell_type": "code",
   "execution_count": 50,
   "metadata": {},
   "outputs": [
    {
     "data": {
      "image/png": "[encoded data removed]",
      "text/plain": [
       "<Figure size 432x288 with 1 Axes>"
      ]
     },
     "metadata": {
      "needs_background": "light"
     },
     "output_type": "display_data"
    }
   ],
   "source": [
    "plot_roc_curve(knn, X_test_one, y_test);"
   ]
  },
  {
   "cell_type": "markdown",
   "metadata": {},
   "source": [
    "## Model 4: Naive Bays"
   ]
  },
  {
   "cell_type": "code",
   "execution_count": 51,
   "metadata": {},
   "outputs": [
    {
     "data": {
      "text/plain": [
       "Pipeline(steps=[('preprocessor',\n",
       "                 ColumnTransformer(remainder='passthrough',\n",
       "                                   transformers=[('cat_trans',\n",
       "                                                  Pipeline(steps=[('ohe',\n",
       "                                                                   OneHotEncoder(drop='first',\n",
       "                                                                                 sparse=False))]),\n",
       "                                                  ['subject_age_group',\n",
       "                                                   'officer_gender',\n",
       "                                                   'officer_race',\n",
       "                                                   'subject_perceived_race',\n",
       "                                                   'subject_perceived_gender']),\n",
       "                                                 ('num_trans', MinMaxScaler(),\n",
       "                                                  ['reported_hour',\n",
       "                                                   'reported_month'])])),\n",
       "                ('nb', MultinomialNB())])"
      ]
     },
     "execution_count": 51,
     "metadata": {},
     "output_type": "execute_result"
    }
   ],
   "source": [
    "nb = Pipeline(steps = [\n",
    " ('preprocessor', preprocessor),\n",
    " ('nb', MultinomialNB())\n",
    "])\n",
    "\n",
    "nb.fit(X_train_one, y_train)"
   ]
  },
  {
   "cell_type": "code",
   "execution_count": 52,
   "metadata": {},
   "outputs": [
    {
     "name": "stdout",
     "output_type": "stream",
     "text": [
      "Train F1:0.0012\n",
      "Train Precision:0.7778\n",
      "Test ROC-AUC:0.5740\n",
      "********************\n",
      "Test F1:0.0026\n",
      "Test Precision:0.8333\n",
      "Test ROC-AUC:0.5724\n"
     ]
    }
   ],
   "source": [
    "te_pred_nb = nb.predict(X_test_one)\n",
    "tr_pred_nb = nb.predict(X_train_one)\n",
    "\n",
    "train_probas_nb = nb.predict_proba(X_train_one)[:,1]\n",
    "test_probas_nb = nb.predict_proba(X_test_one)[:,1]\n",
    "\n",
    "\n",
    "print(f\"Train F1:{f1_score(y_train, tr_pred_nb):.4f}\")\n",
    "print(f\"Train Precision:{precision_score(y_train, tr_pred_nb):.4f}\")\n",
    "print(f\"Test ROC-AUC:{roc_auc_score(y_train, train_probas_nb):.4f}\")\n",
    "print(\"*\" * 20)\n",
    "print(f\"Test F1:{f1_score(y_test, te_pred_nb):.4f}\")\n",
    "print(f\"Test Precision:{precision_score(y_test, te_pred_nb):.4f}\")\n",
    "print(f\"Test ROC-AUC:{roc_auc_score(y_test, test_probas_nb):.4f}\")"
   ]
  },
  {
   "cell_type": "code",
   "execution_count": 53,
   "metadata": {},
   "outputs": [
    {
     "data": {
      "image/png": "[encoded data removed]",
      "text/plain": [
       "<Figure size 432x288 with 2 Axes>"
      ]
     },
     "metadata": {
      "needs_background": "light"
     },
     "output_type": "display_data"
    },
    {
     "data": {
      "image/png": "[encoded data removed]",
      "text/plain": [
       "<Figure size 432x288 with 1 Axes>"
      ]
     },
     "metadata": {
      "needs_background": "light"
     },
     "output_type": "display_data"
    }
   ],
   "source": [
    "plot_confusion_matrix(nb, X_test_one, y_test);\n",
    "\n",
    "plot_roc_curve(nb, X_test_one, y_test);"
   ]
  },
  {
   "cell_type": "markdown",
   "metadata": {},
   "source": [
    "## Model 5: Random Forest"
   ]
  },
  {
   "cell_type": "code",
   "execution_count": 54,
   "metadata": {},
   "outputs": [
    {
     "data": {
      "text/plain": [
       "Pipeline(steps=[('preprocessor',\n",
       "                 ColumnTransformer(remainder='passthrough',\n",
       "                                   transformers=[('cat_trans',\n",
       "                                                  Pipeline(steps=[('ohe',\n",
       "                                                                   OneHotEncoder(drop='first',\n",
       "                                                                                 sparse=False))]),\n",
       "                                                  ['subject_age_group',\n",
       "                                                   'officer_gender',\n",
       "                                                   'officer_race',\n",
       "                                                   'subject_perceived_race',\n",
       "                                                   'subject_perceived_gender']),\n",
       "                                                 ('num_trans', MinMaxScaler(),\n",
       "                                                  ['reported_hour',\n",
       "                                                   'reported_month'])])),\n",
       "                ('rf', RandomForestClassifier())])"
      ]
     },
     "execution_count": 54,
     "metadata": {},
     "output_type": "execute_result"
    }
   ],
   "source": [
    "rf = Pipeline(steps = [\n",
    "    ('preprocessor', preprocessor),\n",
    "    ('rf', RandomForestClassifier())\n",
    "])\n",
    "\n",
    "rf.fit(X_train_one, y_train)"
   ]
  },
  {
   "cell_type": "code",
   "execution_count": 55,
   "metadata": {},
   "outputs": [
    {
     "name": "stdout",
     "output_type": "stream",
     "text": [
      "Train F1:0.6924\n",
      "Train Precision:0.8286\n",
      "Test ROC-AUC:0.9198\n",
      "********************\n",
      "Test F1:0.2847\n",
      "Test Precision:0.3812\n",
      "Test ROC-AUC:0.5654\n"
     ]
    }
   ],
   "source": [
    "te_pred_rf = rf.predict(X_test_one)\n",
    "tr_pred_rf = rf.predict(X_train_one)\n",
    "\n",
    "train_probas_rf = rf.predict_proba(X_train_one)[:,1]\n",
    "test_probas_rf = rf.predict_proba(X_test_one)[:,1]\n",
    "\n",
    "\n",
    "print(f\"Train F1:{f1_score(y_train, tr_pred_rf):.4f}\")\n",
    "print(f\"Train Precision:{precision_score(y_train, tr_pred_rf):.4f}\")\n",
    "print(f\"Test ROC-AUC:{roc_auc_score(y_train, train_probas_rf):.4f}\")\n",
    "print(\"*\" * 20)\n",
    "print(f\"Test F1:{f1_score(y_test, te_pred_rf):.4f}\")\n",
    "print(f\"Test Precision:{precision_score(y_test, te_pred_rf):.4f}\")\n",
    "print(f\"Test ROC-AUC:{roc_auc_score(y_test, test_probas_rf):.4f}\")"
   ]
  },
  {
   "cell_type": "code",
   "execution_count": 56,
   "metadata": {},
   "outputs": [
    {
     "data": {
      "image/png": "[encoded data removed]",
      "text/plain": [
       "<Figure size 432x288 with 2 Axes>"
      ]
     },
     "metadata": {
      "needs_background": "light"
     },
     "output_type": "display_data"
    },
    {
     "data": {
      "image/png": "[encoded data removed]",
      "text/plain": [
       "<Figure size 432x288 with 1 Axes>"
      ]
     },
     "metadata": {
      "needs_background": "light"
     },
     "output_type": "display_data"
    }
   ],
   "source": [
    "plot_confusion_matrix(rf, X_test_one, y_test);\n",
    "\n",
    "plot_roc_curve(rf, X_test_one, y_test);"
   ]
  },
  {
   "cell_type": "markdown",
   "metadata": {},
   "source": [
    "Because of Decision Trees perform better with data that dependent upon people, DT can better capture the interactions."
   ]
  },
  {
   "cell_type": "markdown",
   "metadata": {},
   "source": [
    "# Model Tuning\n",
    "- GridSearchCV will be used to tune the hyperparameters to maximize model performance.\n",
    "- Tuning the trees to get a better accuracy score. \n",
    "    - I follow the same steps as above.\n",
    "    - Add some parameters using a param_grid.\n",
    "    - Pull the parameters and use them with my model."
   ]
  },
  {
   "cell_type": "code",
   "execution_count": 57,
   "metadata": {
    "scrolled": false
   },
   "outputs": [
    {
     "data": {
      "text/plain": [
       "Pipeline(steps=[('preprocessor',\n",
       "                 ColumnTransformer(remainder='passthrough',\n",
       "                                   transformers=[('cat_trans',\n",
       "                                                  Pipeline(steps=[('ohe',\n",
       "                                                                   OneHotEncoder(drop='first',\n",
       "                                                                                 sparse=False))]),\n",
       "                                                  ['subject_age_group',\n",
       "                                                   'officer_gender',\n",
       "                                                   'officer_race',\n",
       "                                                   'subject_perceived_race',\n",
       "                                                   'subject_perceived_gender']),\n",
       "                                                 ('num_trans', MinMaxScaler(),\n",
       "                                                  ['reported_hour',\n",
       "                                                   'reported_month'])])),\n",
       "                ('dt', DecisionTreeClassifier(random_state=200))])"
      ]
     },
     "execution_count": 57,
     "metadata": {},
     "output_type": "execute_result"
    }
   ],
   "source": [
    "dt2 = Pipeline(steps = [\n",
    " ('preprocessor', preprocessor),\n",
    " ('dt', DecisionTreeClassifier(random_state = 200))\n",
    "])\n",
    "\n",
    "dt2.fit(X_train_one, y_train)"
   ]
  },
  {
   "cell_type": "code",
   "execution_count": 58,
   "metadata": {},
   "outputs": [],
   "source": [
    "dt2_param_grid = {\n",
    "    'dt__criterion': ['gini', 'entropy'],\n",
    "    'dt__max_depth': [3, 5, 7, 10, 15],\n",
    "    'dt__max_features': ['auto', 'sqrt', 'log2'],\n",
    "    'dt__min_samples_leaf': [5, 14, 20, 50]\n",
    "}"
   ]
  },
  {
   "cell_type": "code",
   "execution_count": 59,
   "metadata": {
    "scrolled": false
   },
   "outputs": [
    {
     "name": "stdout",
     "output_type": "stream",
     "text": [
      "Fitting 5 folds for each of 120 candidates, totalling 600 fits\n"
     ]
    },
    {
     "name": "stderr",
     "output_type": "stream",
     "text": [
      "[Parallel(n_jobs=1)]: Using backend SequentialBackend with 1 concurrent workers.\n",
      "[Parallel(n_jobs=1)]: Done 600 out of 600 | elapsed:  1.9min finished\n"
     ]
    },
    {
     "data": {
      "text/plain": [
       "GridSearchCV(cv=5,\n",
       "             estimator=Pipeline(steps=[('preprocessor',\n",
       "                                        ColumnTransformer(remainder='passthrough',\n",
       "                                                          transformers=[('cat_trans',\n",
       "                                                                         Pipeline(steps=[('ohe',\n",
       "                                                                                          OneHotEncoder(drop='first',\n",
       "                                                                                                        sparse=False))]),\n",
       "                                                                         ['subject_age_group',\n",
       "                                                                          'officer_gender',\n",
       "                                                                          'officer_race',\n",
       "                                                                          'subject_perceived_race',\n",
       "                                                                          'subject_perceived_gender']),\n",
       "                                                                        ('num_trans',\n",
       "                                                                         MinMaxScaler(),\n",
       "                                                                         ['reported_hour',\n",
       "                                                                          'reported_month'])])),\n",
       "                                       ('dt',\n",
       "                                        DecisionTreeClassifier(random_state=200))]),\n",
       "             param_grid={'dt__criterion': ['gini', 'entropy'],\n",
       "                         'dt__max_depth': [3, 5, 7, 10, 15],\n",
       "                         'dt__max_features': ['auto', 'sqrt', 'log2'],\n",
       "                         'dt__min_samples_leaf': [5, 14, 20, 50]},\n",
       "             scoring='roc_auc', verbose=True)"
      ]
     },
     "execution_count": 59,
     "metadata": {},
     "output_type": "execute_result"
    }
   ],
   "source": [
    "# Initialize the grid search object with five-fold cross-validation\n",
    "gs = GridSearchCV(dt2, dt2_param_grid, cv = 5, scoring = 'roc_auc', verbose =True )\n",
    "\n",
    "# Then fit it to our X_train and y_train\n",
    "gs.fit(X_train_one, y_train)"
   ]
  },
  {
   "cell_type": "code",
   "execution_count": 60,
   "metadata": {},
   "outputs": [
    {
     "data": {
      "text/plain": [
       "{'dt__criterion': 'gini',\n",
       " 'dt__max_depth': 15,\n",
       " 'dt__max_features': 'auto',\n",
       " 'dt__min_samples_leaf': 50}"
      ]
     },
     "execution_count": 60,
     "metadata": {},
     "output_type": "execute_result"
    }
   ],
   "source": [
    "gs.best_params_"
   ]
  },
  {
   "cell_type": "code",
   "execution_count": 61,
   "metadata": {},
   "outputs": [
    {
     "data": {
      "text/plain": [
       "0.580503688877786"
      ]
     },
     "execution_count": 61,
     "metadata": {},
     "output_type": "execute_result"
    }
   ],
   "source": [
    "gs.best_score_"
   ]
  },
  {
   "cell_type": "code",
   "execution_count": 62,
   "metadata": {},
   "outputs": [
    {
     "data": {
      "text/plain": [
       "Pipeline(steps=[('preprocessor',\n",
       "                 ColumnTransformer(remainder='passthrough',\n",
       "                                   transformers=[('cat_trans',\n",
       "                                                  Pipeline(steps=[('ohe',\n",
       "                                                                   OneHotEncoder(drop='first',\n",
       "                                                                                 sparse=False))]),\n",
       "                                                  ['subject_age_group',\n",
       "                                                   'officer_gender',\n",
       "                                                   'officer_race',\n",
       "                                                   'subject_perceived_race',\n",
       "                                                   'subject_perceived_gender']),\n",
       "                                                 ('num_trans', MinMaxScaler(),\n",
       "                                                  ['reported_hour',\n",
       "                                                   'reported_month'])])),\n",
       "                ('dt',\n",
       "                 DecisionTreeClassifier(max_depth=15, max_features='auto',\n",
       "                                        min_samples_leaf=50,\n",
       "                                        random_state=200))])"
      ]
     },
     "execution_count": 62,
     "metadata": {},
     "output_type": "execute_result"
    }
   ],
   "source": [
    "gs.best_estimator_"
   ]
  },
  {
   "cell_type": "code",
   "execution_count": 63,
   "metadata": {},
   "outputs": [
    {
     "name": "stdout",
     "output_type": "stream",
     "text": [
      "Train F1:0.0288\n",
      "Train Precision:0.5220\n",
      "Train ROC-AUC:0.6062\n",
      "********************\n",
      "Test F1:0.0256\n",
      "Test Precision:0.4016\n",
      "Test ROC-AUC:0.5834\n"
     ]
    }
   ],
   "source": [
    "te_pred_dt2 = gs.best_estimator_.predict(X_test_one)\n",
    "tr_pred_dt2 = gs.best_estimator_.predict(X_train_one)\n",
    "\n",
    "train_probas_dt2 = gs.best_estimator_.predict_proba(X_train_one)[:,1]\n",
    "test_probas_dt2 = gs.best_estimator_.predict_proba(X_test_one)[:,1]\n",
    "\n",
    "\n",
    "print(f\"Train F1:{f1_score(y_train, tr_pred_dt2):.4f}\")\n",
    "print(f\"Train Precision:{precision_score(y_train, tr_pred_dt2):.4f}\")\n",
    "print(f\"Train ROC-AUC:{roc_auc_score(y_train, train_probas_dt2):.4f}\")\n",
    "print(\"*\" * 20)\n",
    "print(f\"Test F1:{f1_score(y_test, te_pred_dt2):.4f}\")\n",
    "print(f\"Test Precision:{precision_score(y_test, te_pred_dt2):.4f}\")\n",
    "print(f\"Test ROC-AUC:{roc_auc_score(y_test, test_probas_dt2):.4f}\")"
   ]
  },
  {
   "cell_type": "markdown",
   "metadata": {},
   "source": [
    "Looking at the features that are influecing scores and the level of importance of those features."
   ]
  },
  {
   "cell_type": "code",
   "execution_count": 68,
   "metadata": {},
   "outputs": [],
   "source": [
    "dt_feat_import = gs.best_estimator_.named_steps['dt'].feature_importances_"
   ]
  },
  {
   "cell_type": "code",
   "execution_count": 65,
   "metadata": {},
   "outputs": [],
   "source": [
    "ohe_col_names = gs.best_estimator_.named_steps['preprocessor'].named_transformers_['cat_trans']['ohe'].get_feature_names()"
   ]
  },
  {
   "cell_type": "code",
   "execution_count": 66,
   "metadata": {},
   "outputs": [
    {
     "data": {
      "text/plain": [
       "30"
      ]
     },
     "execution_count": 66,
     "metadata": {},
     "output_type": "execute_result"
    }
   ],
   "source": [
    "output_cols = [*ohe_col_names, *num_cols]\n",
    "len(output_cols)"
   ]
  },
  {
   "cell_type": "code",
   "execution_count": 67,
   "metadata": {},
   "outputs": [
    {
     "data": {
      "text/plain": [
       "{'x4_Male': 0.4081805663365922,\n",
       " 'x3_White': 0.15829884914444814,\n",
       " 'reported_hour': 0.11613120319585388,\n",
       " 'reported_month': 0.1014255825086613,\n",
       " 'x3_Black or African American': 0.03522053653324326,\n",
       " 'x3_Asian': 0.020420731353304845,\n",
       " 'x2_Two or More Races': 0.018540913812910814,\n",
       " 'x3_Hispanic': 0.01791086476218219,\n",
       " 'x1_M': 0.016959815488082793,\n",
       " 'x0_18 - 25': 0.016836021262625993,\n",
       " 'x3_Unknown': 0.016177857034250957,\n",
       " 'x2_White': 0.013330207471675725,\n",
       " 'x3_Multi-Racial': 0.01184240727284559,\n",
       " 'x0_26 - 35': 0.011414125432288987,\n",
       " 'x2_Asian': 0.006520733629436489,\n",
       " 'x2_Black or African American': 0.006296413499937955,\n",
       " 'x0_46 - 55': 0.005401895690788706,\n",
       " 'x2_Not Specified': 0.00504481892197474,\n",
       " 'x0_36 - 45': 0.004418659429903626,\n",
       " 'x0_Unknown': 0.004022960445617844,\n",
       " 'x0_56 and Above': 0.003832924618142335,\n",
       " 'x2_Hispanic or Latino': 0.0017719121552315729,\n",
       " 'x1_N': 0.0,\n",
       " 'x2_Nat Hawaiian/Oth Pac Islander': 0.0,\n",
       " 'x2_Unknown': 0.0,\n",
       " 'x3_Native Hawaiian or Other Pacific Islander': 0.0,\n",
       " 'x3_Other': 0.0,\n",
       " 'x4_Gender Diverse (gender non-conforming and/or transgender)': 0.0,\n",
       " 'x4_Unable to Determine': 0.0,\n",
       " 'x4_Unknown': 0.0}"
      ]
     },
     "execution_count": 67,
     "metadata": {},
     "output_type": "execute_result"
    }
   ],
   "source": [
    "{k: v for k, v in sorted(dict(zip(output_cols, dt_feat_import)).items(), key=lambda item: item[1], reverse=True)}"
   ]
  },
  {
   "cell_type": "markdown",
   "metadata": {},
   "source": [
    "## RF"
   ]
  },
  {
   "cell_type": "code",
   "execution_count": 69,
   "metadata": {},
   "outputs": [
    {
     "data": {
      "text/plain": [
       "Pipeline(steps=[('preprocessor',\n",
       "                 ColumnTransformer(remainder='passthrough',\n",
       "                                   transformers=[('cat_trans',\n",
       "                                                  Pipeline(steps=[('ohe',\n",
       "                                                                   OneHotEncoder(drop='first',\n",
       "                                                                                 sparse=False))]),\n",
       "                                                  ['subject_age_group',\n",
       "                                                   'officer_gender',\n",
       "                                                   'officer_race',\n",
       "                                                   'subject_perceived_race',\n",
       "                                                   'subject_perceived_gender']),\n",
       "                                                 ('num_trans', MinMaxScaler(),\n",
       "                                                  ['reported_hour',\n",
       "                                                   'reported_month'])])),\n",
       "                ('rf', RandomForestClassifier(random_state=200))])"
      ]
     },
     "execution_count": 69,
     "metadata": {},
     "output_type": "execute_result"
    }
   ],
   "source": [
    "rf2 = Pipeline(steps = [\n",
    " ('preprocessor', preprocessor),\n",
    " ('rf', RandomForestClassifier(random_state = 200))\n",
    "])\n",
    "\n",
    "rf2.fit(X_train_one, y_train)"
   ]
  },
  {
   "cell_type": "code",
   "execution_count": 70,
   "metadata": {},
   "outputs": [
    {
     "data": {
      "text/plain": [
       "0.664087635973648"
      ]
     },
     "execution_count": 70,
     "metadata": {},
     "output_type": "execute_result"
    }
   ],
   "source": [
    "rf2.score(X_test_one, y_test)"
   ]
  },
  {
   "cell_type": "code",
   "execution_count": 71,
   "metadata": {},
   "outputs": [],
   "source": [
    "y_pred = rf2.predict(X_test_one)"
   ]
  },
  {
   "cell_type": "code",
   "execution_count": 72,
   "metadata": {},
   "outputs": [
    {
     "data": {
      "text/plain": [
       "0.664087635973648"
      ]
     },
     "execution_count": 72,
     "metadata": {},
     "output_type": "execute_result"
    }
   ],
   "source": [
    "accuracy_score(y_pred, y_test)"
   ]
  },
  {
   "cell_type": "code",
   "execution_count": 74,
   "metadata": {},
   "outputs": [],
   "source": [
    "rf2_param_grid = {\n",
    "    'rf__n_estimators': [400, 500],\n",
    "    'rf__max_features': [5, 15],\n",
    "    'rf__max_depth': [8, 10]\n",
    "}"
   ]
  },
  {
   "cell_type": "code",
   "execution_count": 75,
   "metadata": {},
   "outputs": [
    {
     "data": {
      "text/plain": [
       "GridSearchCV(cv=5,\n",
       "             estimator=Pipeline(steps=[('preprocessor',\n",
       "                                        ColumnTransformer(remainder='passthrough',\n",
       "                                                          transformers=[('cat_trans',\n",
       "                                                                         Pipeline(steps=[('ohe',\n",
       "                                                                                          OneHotEncoder(drop='first',\n",
       "                                                                                                        sparse=False))]),\n",
       "                                                                         ['subject_age_group',\n",
       "                                                                          'officer_gender',\n",
       "                                                                          'officer_race',\n",
       "                                                                          'subject_perceived_race',\n",
       "                                                                          'subject_perceived_gender']),\n",
       "                                                                        ('num_trans',\n",
       "                                                                         MinMaxScaler(),\n",
       "                                                                         ['reported_hour',\n",
       "                                                                          'reported_month'])])),\n",
       "                                       ('rf',\n",
       "                                        RandomForestClassifier(random_state=200))]),\n",
       "             param_grid={'rf__max_depth': [8, 10], 'rf__max_features': [5, 15],\n",
       "                         'rf__n_estimators': [400, 500]})"
      ]
     },
     "execution_count": 75,
     "metadata": {},
     "output_type": "execute_result"
    }
   ],
   "source": [
    "# Initialize the grid search object with five-fold cross-validation\n",
    "gs2 = GridSearchCV(rf2, rf2_param_grid, cv = 5)\n",
    "\n",
    "# Then fit it to our X_train and y_train\n",
    "gs2.fit(X_train_one, y_train)"
   ]
  },
  {
   "cell_type": "code",
   "execution_count": 76,
   "metadata": {},
   "outputs": [
    {
     "data": {
      "text/plain": [
       "{'rf__max_depth': 8, 'rf__max_features': 15, 'rf__n_estimators': 400}"
      ]
     },
     "execution_count": 76,
     "metadata": {},
     "output_type": "execute_result"
    }
   ],
   "source": [
    "gs2.best_params_"
   ]
  },
  {
   "cell_type": "code",
   "execution_count": 77,
   "metadata": {},
   "outputs": [
    {
     "data": {
      "text/plain": [
       "0.7137458177973888"
      ]
     },
     "execution_count": 77,
     "metadata": {},
     "output_type": "execute_result"
    }
   ],
   "source": [
    "gs2.best_score_"
   ]
  },
  {
   "cell_type": "code",
   "execution_count": 78,
   "metadata": {},
   "outputs": [
    {
     "data": {
      "text/plain": [
       "Pipeline(steps=[('preprocessor',\n",
       "                 ColumnTransformer(remainder='passthrough',\n",
       "                                   transformers=[('cat_trans',\n",
       "                                                  Pipeline(steps=[('ohe',\n",
       "                                                                   OneHotEncoder(drop='first',\n",
       "                                                                                 sparse=False))]),\n",
       "                                                  ['subject_age_group',\n",
       "                                                   'officer_gender',\n",
       "                                                   'officer_race',\n",
       "                                                   'subject_perceived_race',\n",
       "                                                   'subject_perceived_gender']),\n",
       "                                                 ('num_trans', MinMaxScaler(),\n",
       "                                                  ['reported_hour',\n",
       "                                                   'reported_month'])])),\n",
       "                ('rf',\n",
       "                 RandomForestClassifier(max_depth=8, max_features=15,\n",
       "                                        n_estimators=400, random_state=200))])"
      ]
     },
     "execution_count": 78,
     "metadata": {},
     "output_type": "execute_result"
    }
   ],
   "source": [
    "gs2.best_estimator_"
   ]
  },
  {
   "cell_type": "code",
   "execution_count": 194,
   "metadata": {
    "scrolled": false
   },
   "outputs": [
    {
     "name": "stdout",
     "output_type": "stream",
     "text": [
      "Train F1:0.0069\n",
      "Train Precision:0.9512\n",
      "Train ROC-AUC:0.6466\n",
      "********************\n",
      "Test F1:0.0031\n",
      "Test Precision:0.4286\n",
      "Test ROC-AUC:0.6037\n"
     ]
    }
   ],
   "source": [
    "te_pred_rf2 = gs2.best_estimator_.predict(X_test_one)\n",
    "tr_pred_rf2 = gs2.best_estimator_.predict(X_train_one)\n",
    "\n",
    "train_probas_rf2 = gs2.best_estimator_.predict_proba(X_train_one)[:,1]\n",
    "test_probas_rf2 = gs2.best_estimator_.predict_proba(X_test_one)[:,1]\n",
    "\n",
    "\n",
    "print(f\"Train F1:{f1_score(y_train, tr_pred_rf2):.4f}\")\n",
    "print(f\"Train Precision:{precision_score(y_train, tr_pred_rf2):.4f}\")\n",
    "print(f\"Train ROC-AUC:{roc_auc_score(y_train, train_probas_rf2):.4f}\")\n",
    "print(\"*\" * 20)\n",
    "print(f\"Test F1:{f1_score(y_test, te_pred_rf2):.4f}\")\n",
    "print(f\"Test Precision:{precision_score(y_test, te_pred_rf2):.4f}\")\n",
    "print(f\"Test ROC-AUC:{roc_auc_score(y_test, test_probas_rf2):.4f}\")"
   ]
  },
  {
   "cell_type": "markdown",
   "metadata": {},
   "source": [
    "## BOOST\n",
    "An `AdaBoost` will be used to combine multiple weak classifiers to build a strong classifier. The group of classifiers can learn from the previous classifiers wrongly classified datapoints.  "
   ]
  },
  {
   "cell_type": "code",
   "execution_count": 80,
   "metadata": {},
   "outputs": [
    {
     "data": {
      "text/plain": [
       "Pipeline(steps=[('preprocessor',\n",
       "                 ColumnTransformer(remainder='passthrough',\n",
       "                                   transformers=[('cat_trans',\n",
       "                                                  Pipeline(steps=[('ohe',\n",
       "                                                                   OneHotEncoder(drop='first',\n",
       "                                                                                 sparse=False))]),\n",
       "                                                  ['subject_age_group',\n",
       "                                                   'officer_gender',\n",
       "                                                   'officer_race',\n",
       "                                                   'subject_perceived_race',\n",
       "                                                   'subject_perceived_gender']),\n",
       "                                                 ('num_trans', MinMaxScaler(),\n",
       "                                                  ['reported_hour',\n",
       "                                                   'reported_month'])])),\n",
       "                ('ada',\n",
       "                 AdaBoostClassifier(learning_rate=0.1, n_estimators=100,\n",
       "                                    random_state=42))])"
      ]
     },
     "execution_count": 80,
     "metadata": {},
     "output_type": "execute_result"
    }
   ],
   "source": [
    "ada = Pipeline(steps = [\n",
    " ('preprocessor', preprocessor),\n",
    " ('ada', AdaBoostClassifier(random_state = 42,\n",
    "                            learning_rate = .1,\n",
    "                            n_estimators = 100))\n",
    "])\n",
    "\n",
    "ada.fit(X_train_one, y_train)"
   ]
  },
  {
   "cell_type": "code",
   "execution_count": 81,
   "metadata": {},
   "outputs": [
    {
     "data": {
      "text/plain": [
       "0.7039987743220468"
      ]
     },
     "execution_count": 81,
     "metadata": {},
     "output_type": "execute_result"
    }
   ],
   "source": [
    "ada.score(X_test_one, y_test)"
   ]
  },
  {
   "cell_type": "code",
   "execution_count": 82,
   "metadata": {
    "scrolled": true
   },
   "outputs": [
    {
     "data": {
      "text/plain": [
       "0.7136436761063303"
      ]
     },
     "execution_count": 82,
     "metadata": {},
     "output_type": "execute_result"
    }
   ],
   "source": [
    "ada.score(X_train_one, y_train)"
   ]
  },
  {
   "cell_type": "code",
   "execution_count": 83,
   "metadata": {},
   "outputs": [],
   "source": [
    "ada_feat_import = ada.named_steps['ada'].feature_importances_"
   ]
  },
  {
   "cell_type": "code",
   "execution_count": 182,
   "metadata": {},
   "outputs": [
    {
     "data": {
      "image/png": "[encoded data removed]",
      "text/plain": [
       "<Figure size 432x288 with 2 Axes>"
      ]
     },
     "metadata": {
      "needs_background": "light"
     },
     "output_type": "display_data"
    },
    {
     "data": {
      "image/png": "[encoded data removed]",
      "text/plain": [
       "<Figure size 432x288 with 1 Axes>"
      ]
     },
     "metadata": {
      "needs_background": "light"
     },
     "output_type": "display_data"
    }
   ],
   "source": [
    "plot_confusion_matrix(ada, X_test_one, y_test);\n",
    "\n",
    "plot_roc_curve(ada., X_test_one, y_test);"
   ]
  },
  {
   "cell_type": "code",
   "execution_count": 84,
   "metadata": {},
   "outputs": [
    {
     "data": {
      "text/plain": [
       "{'x4_Male': 0.22,\n",
       " 'x3_White': 0.15,\n",
       " 'reported_hour': 0.14,\n",
       " 'x3_Hispanic': 0.08,\n",
       " 'reported_month': 0.08,\n",
       " 'x2_Two or More Races': 0.06,\n",
       " 'x3_Black or African American': 0.06,\n",
       " 'x3_Multi-Racial': 0.05,\n",
       " 'x0_Unknown': 0.04,\n",
       " 'x0_46 - 55': 0.03,\n",
       " 'x0_18 - 25': 0.02,\n",
       " 'x1_M': 0.02,\n",
       " 'x2_Not Specified': 0.02,\n",
       " 'x3_Native Hawaiian or Other Pacific Islander': 0.02,\n",
       " 'x3_Asian': 0.01,\n",
       " 'x0_26 - 35': 0.0,\n",
       " 'x0_36 - 45': 0.0,\n",
       " 'x0_56 and Above': 0.0,\n",
       " 'x1_N': 0.0,\n",
       " 'x2_Asian': 0.0,\n",
       " 'x2_Black or African American': 0.0,\n",
       " 'x2_Hispanic or Latino': 0.0,\n",
       " 'x2_Nat Hawaiian/Oth Pac Islander': 0.0,\n",
       " 'x2_Unknown': 0.0,\n",
       " 'x2_White': 0.0,\n",
       " 'x3_Other': 0.0,\n",
       " 'x3_Unknown': 0.0,\n",
       " 'x4_Gender Diverse (gender non-conforming and/or transgender)': 0.0,\n",
       " 'x4_Unable to Determine': 0.0,\n",
       " 'x4_Unknown': 0.0}"
      ]
     },
     "execution_count": 84,
     "metadata": {},
     "output_type": "execute_result"
    }
   ],
   "source": [
    "{k: v for k, v in sorted(dict(zip(output_cols, ada_feat_import)).items(), key=lambda item: item[1], reverse=True)}"
   ]
  },
  {
   "cell_type": "code",
   "execution_count": 86,
   "metadata": {},
   "outputs": [
    {
     "data": {
      "text/plain": [
       "['subject_age_group',\n",
       " 'officer_gender',\n",
       " 'officer_race',\n",
       " 'subject_perceived_race',\n",
       " 'subject_perceived_gender']"
      ]
     },
     "execution_count": 86,
     "metadata": {},
     "output_type": "execute_result"
    }
   ],
   "source": [
    "cat_cols\n",
    "#  x0: 'subject_age_group',\n",
    "#  x1: 'officer_gender',\n",
    "#  x2: 'officer_race',\n",
    "#  x3: 'subject_perceived_race',\n",
    "#  x4: 'subject_perceived_gender"
   ]
  },
  {
   "cell_type": "markdown",
   "metadata": {},
   "source": [
    "# Conclusion\n",
    "The data showed that race and gender played a major factor in a person being arrested or frisked. Whites account 64.5% of Seattle population and 48.9% of the terry stops but only 4.3% of the arrest or frisk. On the other hand, Asians account for 14.9% of Seattle population and 3.2% of the total terry stops, but 30% of their terry stop population end in arrest or frisk. Whites have the highest total population and highest terry stop percentage, even after combining all the other races' total numbers, but they account for the one of the lowest arrest or frisked numbers."
   ]
  }
 ],
 "metadata": {
  "kernelspec": {
   "display_name": "Python (learn-env)",
   "language": "python",
   "name": "learn-env"
  },
  "language_info": {
   "codemirror_mode": {
    "name": "ipython",
    "version": 3
   },
   "file_extension": ".py",
   "mimetype": "text/x-python",
   "name": "python",
   "nbconvert_exporter": "python",
   "pygments_lexer": "ipython3",
   "version": "3.8.5"
  }
 },
 "nbformat": 4,
 "nbformat_minor": 4
}
